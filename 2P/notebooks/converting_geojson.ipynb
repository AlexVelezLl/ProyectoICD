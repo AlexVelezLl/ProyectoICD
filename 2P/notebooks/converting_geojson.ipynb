{
 "cells": [
  {
   "cell_type": "code",
   "execution_count": 247,
   "metadata": {},
   "outputs": [],
   "source": [
    "import geopandas\n",
    "import pandas as pd"
   ]
  },
  {
   "cell_type": "code",
   "execution_count": 248,
   "metadata": {},
   "outputs": [],
   "source": [
    "path_geo='../../data/geodata_bh/BAIRRO_POPULAR.shp'"
   ]
  },
  {
   "cell_type": "code",
   "execution_count": 249,
   "metadata": {},
   "outputs": [],
   "source": [
    "shp_file = geopandas.read_file(path_geo)\n",
    "shp_file=shp_file.to_crs(epsg=4326)\n",
    "shp_file.to_file('../../data/geodata_bh/BAIRRO_POPULAR_4326.geojson', driver='GeoJSON')"
   ]
  },
  {
   "cell_type": "code",
   "execution_count": 250,
   "metadata": {},
   "outputs": [],
   "source": [
    "# shp_file.NOME=shp_file.NOME.apply(lambda x: x+'_BH')"
   ]
  },
  {
   "cell_type": "code",
   "execution_count": 251,
   "metadata": {},
   "outputs": [],
   "source": [
    "df=pd.read_csv('../../data/data2/processed/steps_2.2.csv',encoding='latin-1' )"
   ]
  },
  {
   "cell_type": "code",
   "execution_count": 252,
   "metadata": {},
   "outputs": [],
   "source": [
    "gdf_deliveries = geopandas.GeoDataFrame(df, geometry=geopandas.points_from_xy(df[\"lng\"], df[\"lat\"]))"
   ]
  },
  {
   "cell_type": "code",
   "execution_count": 253,
   "metadata": {},
   "outputs": [
    {
     "name": "stderr",
     "output_type": "stream",
     "text": [
      "/home/caloja/.local/lib/python3.8/site-packages/IPython/core/interactiveshell.py:3337: FutureWarning: The `op` parameter is deprecated and will be removed in a future release. Please use the `predicate` parameter instead.\n",
      "  if await self.run_code(code, result, async_=asy):\n",
      "/tmp/ipykernel_27719/1300309330.py:1: UserWarning: CRS mismatch between the CRS of left geometries and the CRS of right geometries.\n",
      "Use `to_crs()` to reproject one of the input geometries to match the CRS of the other.\n",
      "\n",
      "Left CRS: None\n",
      "Right CRS: EPSG:4326\n",
      "\n",
      "  dfgeo = geopandas.sjoin(gdf_deliveries, shp_file, how='left', op='within')\n"
     ]
    }
   ],
   "source": [
    "dfgeo = geopandas.sjoin(gdf_deliveries, shp_file, how='left', op='within')"
   ]
  },
  {
   "cell_type": "code",
   "execution_count": 254,
   "metadata": {},
   "outputs": [],
   "source": [
    "df_geo_not_in_belohorizonte=dfgeo[dfgeo['NOME'].isnull()].drop(columns=['index_right','ID', 'CODIGO', 'NOME', 'AREA_KM2', 'PERIMETR_M'])\n",
    "df_geo_in_belohorizonte=dfgeo[~dfgeo['NOME'].isnull()].drop(columns=['index_right','ID', 'CODIGO', 'AREA_KM2', 'PERIMETR_M'])"
   ]
  },
  {
   "cell_type": "code",
   "execution_count": 255,
   "metadata": {},
   "outputs": [],
   "source": [
    "df_mg = geopandas.read_file('../../data/data2/MG.json')"
   ]
  },
  {
   "cell_type": "code",
   "execution_count": 273,
   "metadata": {},
   "outputs": [],
   "source": [
    "df_warehouse=pd.read_csv('../../data/data2/warehouses.csv',encoding='latin-1' )\n",
    "geo_warehouse = geopandas.GeoDataFrame(df_warehouse, geometry=geopandas.points_from_xy(df_warehouse[\"lng\"], df_warehouse[\"lat\"]))"
   ]
  },
  {
   "cell_type": "code",
   "execution_count": 274,
   "metadata": {},
   "outputs": [
    {
     "name": "stderr",
     "output_type": "stream",
     "text": [
      "/home/caloja/.local/lib/python3.8/site-packages/IPython/core/interactiveshell.py:3337: FutureWarning: The `op` parameter is deprecated and will be removed in a future release. Please use the `predicate` parameter instead.\n",
      "  if await self.run_code(code, result, async_=asy):\n",
      "/tmp/ipykernel_27719/3770579690.py:1: UserWarning: CRS mismatch between the CRS of left geometries and the CRS of right geometries.\n",
      "Use `to_crs()` to reproject one of the input geometries to match the CRS of the other.\n",
      "\n",
      "Left CRS: EPSG:4326\n",
      "Right CRS: None\n",
      "\n",
      "  merge_ciu_ware = geopandas.sjoin(df_mg, geo_warehouse, how='right', op='contains')\n"
     ]
    }
   ],
   "source": [
    "merge_ciu_ware = geopandas.sjoin(df_mg, geo_warehouse, how='right', op='contains')"
   ]
  },
  {
   "cell_type": "code",
   "execution_count": 277,
   "metadata": {},
   "outputs": [
    {
     "data": {
      "text/plain": [
       "Belo Horizonte    46\n",
       "Contagem          13\n",
       "Betim              2\n",
       "Sete Lagoas        1\n",
       "Ipatinga           1\n",
       "Name: NOME, dtype: int64"
      ]
     },
     "execution_count": 277,
     "metadata": {},
     "output_type": "execute_result"
    }
   ],
   "source": [
    "merge_ciu_ware.NOME.value_counts()"
   ]
  },
  {
   "cell_type": "code",
   "execution_count": 281,
   "metadata": {},
   "outputs": [
    {
     "data": {
      "text/html": [
       "<div>\n",
       "<style scoped>\n",
       "    .dataframe tbody tr th:only-of-type {\n",
       "        vertical-align: middle;\n",
       "    }\n",
       "\n",
       "    .dataframe tbody tr th {\n",
       "        vertical-align: top;\n",
       "    }\n",
       "\n",
       "    .dataframe thead th {\n",
       "        text-align: right;\n",
       "    }\n",
       "</style>\n",
       "<table border=\"1\" class=\"dataframe\">\n",
       "  <thead>\n",
       "    <tr style=\"text-align: right;\">\n",
       "      <th></th>\n",
       "      <th></th>\n",
       "      <th>delivery_id</th>\n",
       "    </tr>\n",
       "    <tr>\n",
       "      <th>lat</th>\n",
       "      <th>lng</th>\n",
       "      <th></th>\n",
       "    </tr>\n",
       "  </thead>\n",
       "  <tbody>\n",
       "    <tr>\n",
       "      <th>-19.9618</th>\n",
       "      <th>-44.0285</th>\n",
       "      <td>239564</td>\n",
       "    </tr>\n",
       "    <tr>\n",
       "      <th>-19.9211</th>\n",
       "      <th>-43.9155</th>\n",
       "      <td>9951</td>\n",
       "    </tr>\n",
       "    <tr>\n",
       "      <th>-19.9524</th>\n",
       "      <th>-43.9388</th>\n",
       "      <td>8996</td>\n",
       "    </tr>\n",
       "    <tr>\n",
       "      <th>-19.8916</th>\n",
       "      <th>-44.0520</th>\n",
       "      <td>6313</td>\n",
       "    </tr>\n",
       "    <tr>\n",
       "      <th>-19.8586</th>\n",
       "      <th>-43.9591</th>\n",
       "      <td>4717</td>\n",
       "    </tr>\n",
       "    <tr>\n",
       "      <th>...</th>\n",
       "      <th>...</th>\n",
       "      <td>...</td>\n",
       "    </tr>\n",
       "    <tr>\n",
       "      <th rowspan=\"4\" valign=\"top\">-19.9251</th>\n",
       "      <th>-43.9605</th>\n",
       "      <td>1</td>\n",
       "    </tr>\n",
       "    <tr>\n",
       "      <th>-43.9637</th>\n",
       "      <td>1</td>\n",
       "    </tr>\n",
       "    <tr>\n",
       "      <th>-43.9679</th>\n",
       "      <td>1</td>\n",
       "    </tr>\n",
       "    <tr>\n",
       "      <th>-43.9702</th>\n",
       "      <td>1</td>\n",
       "    </tr>\n",
       "    <tr>\n",
       "      <th>-19.9128</th>\n",
       "      <th>-44.0732</th>\n",
       "      <td>1</td>\n",
       "    </tr>\n",
       "  </tbody>\n",
       "</table>\n",
       "<p>105929 rows × 1 columns</p>\n",
       "</div>"
      ],
      "text/plain": [
       "                   delivery_id\n",
       "lat      lng                  \n",
       "-19.9618 -44.0285       239564\n",
       "-19.9211 -43.9155         9951\n",
       "-19.9524 -43.9388         8996\n",
       "-19.8916 -44.0520         6313\n",
       "-19.8586 -43.9591         4717\n",
       "...                        ...\n",
       "-19.9251 -43.9605            1\n",
       "         -43.9637            1\n",
       "         -43.9679            1\n",
       "         -43.9702            1\n",
       "-19.9128 -44.0732            1\n",
       "\n",
       "[105929 rows x 1 columns]"
      ]
     },
     "execution_count": 281,
     "metadata": {},
     "output_type": "execute_result"
    }
   ],
   "source": [
    "df.groupby(['lat','lng']).agg({'delivery_id':'count'}).sort_values(by='delivery_id',ascending=False)"
   ]
  },
  {
   "cell_type": "code",
   "execution_count": 282,
   "metadata": {},
   "outputs": [
    {
     "data": {
      "text/html": [
       "<div>\n",
       "<style scoped>\n",
       "    .dataframe tbody tr th:only-of-type {\n",
       "        vertical-align: middle;\n",
       "    }\n",
       "\n",
       "    .dataframe tbody tr th {\n",
       "        vertical-align: top;\n",
       "    }\n",
       "\n",
       "    .dataframe thead th {\n",
       "        text-align: right;\n",
       "    }\n",
       "</style>\n",
       "<table border=\"1\" class=\"dataframe\">\n",
       "  <thead>\n",
       "    <tr style=\"text-align: right;\">\n",
       "      <th></th>\n",
       "      <th>id</th>\n",
       "      <th>name</th>\n",
       "      <th>id_company</th>\n",
       "      <th>location</th>\n",
       "      <th>lat</th>\n",
       "      <th>lng</th>\n",
       "      <th>geometry</th>\n",
       "    </tr>\n",
       "  </thead>\n",
       "  <tbody>\n",
       "    <tr>\n",
       "      <th>0</th>\n",
       "      <td>1947</td>\n",
       "      <td>TAG BH</td>\n",
       "      <td>1205</td>\n",
       "      <td>{\"address\":\"R. Vicentina de Souza, 230 - Sagra...</td>\n",
       "      <td>-19.9064</td>\n",
       "      <td>-43.9187</td>\n",
       "      <td>POINT (-43.91870 -19.90640)</td>\n",
       "    </tr>\n",
       "    <tr>\n",
       "      <th>1</th>\n",
       "      <td>3391</td>\n",
       "      <td>Shippify Warehouse BH</td>\n",
       "      <td>1</td>\n",
       "      <td>{\"address\":\"R. José Maria de Lacerda, 1900 - C...</td>\n",
       "      <td>-19.9618</td>\n",
       "      <td>-44.0285</td>\n",
       "      <td>POINT (-44.02850 -19.96180)</td>\n",
       "    </tr>\n",
       "    <tr>\n",
       "      <th>2</th>\n",
       "      <td>3616</td>\n",
       "      <td>Fedex WH</td>\n",
       "      <td>3437</td>\n",
       "      <td>{\"address\":\"FedEx Transportadora, R. Sagitário...</td>\n",
       "      <td>-19.9703</td>\n",
       "      <td>-44.0676</td>\n",
       "      <td>POINT (-44.06760 -19.97030)</td>\n",
       "    </tr>\n",
       "    <tr>\n",
       "      <th>3</th>\n",
       "      <td>3670</td>\n",
       "      <td>CAFÉ ITAOCA</td>\n",
       "      <td>657</td>\n",
       "      <td>{\"address\":\"R. Ulisses Marcondes Escobar, 36 -...</td>\n",
       "      <td>-19.9714</td>\n",
       "      <td>-43.9731</td>\n",
       "      <td>POINT (-43.97310 -19.97140)</td>\n",
       "    </tr>\n",
       "    <tr>\n",
       "      <th>4</th>\n",
       "      <td>3692</td>\n",
       "      <td>Em Casa</td>\n",
       "      <td>657</td>\n",
       "      <td>{\"address\":\"R. Safira, 451 - Prado, Belo Horiz...</td>\n",
       "      <td>-19.9266</td>\n",
       "      <td>-43.9636</td>\n",
       "      <td>POINT (-43.96360 -19.92660)</td>\n",
       "    </tr>\n",
       "    <tr>\n",
       "      <th>...</th>\n",
       "      <td>...</td>\n",
       "      <td>...</td>\n",
       "      <td>...</td>\n",
       "      <td>...</td>\n",
       "      <td>...</td>\n",
       "      <td>...</td>\n",
       "      <td>...</td>\n",
       "    </tr>\n",
       "    <tr>\n",
       "      <th>58</th>\n",
       "      <td>6217</td>\n",
       "      <td>BH warehouse</td>\n",
       "      <td>9447</td>\n",
       "      <td>{\"address\":\"R. José Maria de Lacerda, 1900 - C...</td>\n",
       "      <td>-19.9618</td>\n",
       "      <td>-44.0285</td>\n",
       "      <td>POINT (-44.02850 -19.96180)</td>\n",
       "    </tr>\n",
       "    <tr>\n",
       "      <th>59</th>\n",
       "      <td>6257</td>\n",
       "      <td>SETE LAGOAS</td>\n",
       "      <td>9386</td>\n",
       "      <td>{\"address\":\"R. Lassance Cunha, 205 - Centro, S...</td>\n",
       "      <td>-19.4595</td>\n",
       "      <td>-44.2430</td>\n",
       "      <td>POINT (-44.24300 -19.45950)</td>\n",
       "    </tr>\n",
       "    <tr>\n",
       "      <th>60</th>\n",
       "      <td>6259</td>\n",
       "      <td>IPATINGA</td>\n",
       "      <td>9386</td>\n",
       "      <td>{\"address\":\"R. Vinte e Oito de Abril, 227 - Ce...</td>\n",
       "      <td>-19.4782</td>\n",
       "      <td>-42.5257</td>\n",
       "      <td>POINT (-42.52570 -19.47820)</td>\n",
       "    </tr>\n",
       "    <tr>\n",
       "      <th>61</th>\n",
       "      <td>6264</td>\n",
       "      <td>CONTAGEM</td>\n",
       "      <td>9386</td>\n",
       "      <td>{\"address\":\"Av. João César de Oliveira, 2794 -...</td>\n",
       "      <td>-19.9384</td>\n",
       "      <td>-44.0488</td>\n",
       "      <td>POINT (-44.04880 -19.93840)</td>\n",
       "    </tr>\n",
       "    <tr>\n",
       "      <th>62</th>\n",
       "      <td>6265</td>\n",
       "      <td>ITAU POWER</td>\n",
       "      <td>9386</td>\n",
       "      <td>{\"address\":\"Av. General David Sarnoff, 5160 - ...</td>\n",
       "      <td>-19.9547</td>\n",
       "      <td>-44.0170</td>\n",
       "      <td>POINT (-44.01700 -19.95470)</td>\n",
       "    </tr>\n",
       "  </tbody>\n",
       "</table>\n",
       "<p>63 rows × 7 columns</p>\n",
       "</div>"
      ],
      "text/plain": [
       "      id                   name  id_company  \\\n",
       "0   1947                 TAG BH        1205   \n",
       "1   3391  Shippify Warehouse BH           1   \n",
       "2   3616               Fedex WH        3437   \n",
       "3   3670            CAFÉ ITAOCA         657   \n",
       "4   3692                Em Casa         657   \n",
       "..   ...                    ...         ...   \n",
       "58  6217           BH warehouse        9447   \n",
       "59  6257            SETE LAGOAS        9386   \n",
       "60  6259               IPATINGA        9386   \n",
       "61  6264               CONTAGEM        9386   \n",
       "62  6265             ITAU POWER        9386   \n",
       "\n",
       "                                             location      lat      lng  \\\n",
       "0   {\"address\":\"R. Vicentina de Souza, 230 - Sagra... -19.9064 -43.9187   \n",
       "1   {\"address\":\"R. José Maria de Lacerda, 1900 - C... -19.9618 -44.0285   \n",
       "2   {\"address\":\"FedEx Transportadora, R. Sagitário... -19.9703 -44.0676   \n",
       "3   {\"address\":\"R. Ulisses Marcondes Escobar, 36 -... -19.9714 -43.9731   \n",
       "4   {\"address\":\"R. Safira, 451 - Prado, Belo Horiz... -19.9266 -43.9636   \n",
       "..                                                ...      ...      ...   \n",
       "58  {\"address\":\"R. José Maria de Lacerda, 1900 - C... -19.9618 -44.0285   \n",
       "59  {\"address\":\"R. Lassance Cunha, 205 - Centro, S... -19.4595 -44.2430   \n",
       "60  {\"address\":\"R. Vinte e Oito de Abril, 227 - Ce... -19.4782 -42.5257   \n",
       "61  {\"address\":\"Av. João César de Oliveira, 2794 -... -19.9384 -44.0488   \n",
       "62  {\"address\":\"Av. General David Sarnoff, 5160 - ... -19.9547 -44.0170   \n",
       "\n",
       "                       geometry  \n",
       "0   POINT (-43.91870 -19.90640)  \n",
       "1   POINT (-44.02850 -19.96180)  \n",
       "2   POINT (-44.06760 -19.97030)  \n",
       "3   POINT (-43.97310 -19.97140)  \n",
       "4   POINT (-43.96360 -19.92660)  \n",
       "..                          ...  \n",
       "58  POINT (-44.02850 -19.96180)  \n",
       "59  POINT (-44.24300 -19.45950)  \n",
       "60  POINT (-42.52570 -19.47820)  \n",
       "61  POINT (-44.04880 -19.93840)  \n",
       "62  POINT (-44.01700 -19.95470)  \n",
       "\n",
       "[63 rows x 7 columns]"
      ]
     },
     "execution_count": 282,
     "metadata": {},
     "output_type": "execute_result"
    }
   ],
   "source": [
    "geo_warehouse"
   ]
  },
  {
   "cell_type": "code",
   "execution_count": 256,
   "metadata": {},
   "outputs": [],
   "source": [
    "# gdf_deliveries_mg_out = geopandas.sjoin(df_geo_not_in_belohorizonte, df_mg, how='left', op='within')"
   ]
  },
  {
   "cell_type": "code",
   "execution_count": 257,
   "metadata": {},
   "outputs": [],
   "source": [
    "# gdf_deliveries_mg_out_si=gdf_deliveries_mg_out[~gdf_deliveries_mg_out.NOME.isnull()].drop(columns=['index_right','GEOCODIGO', 'UF'])\n",
    "# gdf_deliveries_mg_out_no=gdf_deliveries_mg_out[gdf_deliveries_mg_out.NOME.isnull()]"
   ]
  },
  {
   "cell_type": "code",
   "execution_count": 258,
   "metadata": {},
   "outputs": [],
   "source": [
    "# df_complete=pd.concat([df_geo_in_belohorizonte,gdf_deliveries_mg_out_si])"
   ]
  },
  {
   "cell_type": "code",
   "execution_count": 259,
   "metadata": {},
   "outputs": [],
   "source": [
    "# df_complete.shape"
   ]
  },
  {
   "cell_type": "code",
   "execution_count": 260,
   "metadata": {},
   "outputs": [],
   "source": [
    "# df_complete=df_complete[~df_complete.delivery_id.isin(gdf_deliveries_mg_out_no.delivery_id.unique())]"
   ]
  },
  {
   "cell_type": "code",
   "execution_count": 261,
   "metadata": {},
   "outputs": [],
   "source": [
    "df_complete=df_geo_in_belohorizonte[~df_geo_in_belohorizonte.delivery_id.isin(df_geo_not_in_belohorizonte.delivery_id.unique())]"
   ]
  },
  {
   "cell_type": "code",
   "execution_count": 262,
   "metadata": {},
   "outputs": [],
   "source": [
    "# df_complete.to_csv('../../data/data2/processed/steps_2.3_withPoint.csv',index=False)"
   ]
  },
  {
   "cell_type": "code",
   "execution_count": 263,
   "metadata": {},
   "outputs": [],
   "source": [
    "group_id=df_complete.groupby('delivery_id')\n",
    "ids_unique=df_complete.delivery_id.unique()"
   ]
  },
  {
   "cell_type": "code",
   "execution_count": 264,
   "metadata": {},
   "outputs": [],
   "source": [
    "names=df_complete.NOME.unique()"
   ]
  },
  {
   "cell_type": "code",
   "execution_count": 265,
   "metadata": {},
   "outputs": [
    {
     "data": {
      "text/plain": [
       "'pickup'"
      ]
     },
     "execution_count": 265,
     "metadata": {},
     "output_type": "execute_result"
    }
   ],
   "source": [
    "group_id.get_group(ids_unique[6]).iloc[0]['action']"
   ]
  },
  {
   "cell_type": "code",
   "execution_count": null,
   "metadata": {},
   "outputs": [],
   "source": []
  },
  {
   "cell_type": "code",
   "execution_count": 266,
   "metadata": {},
   "outputs": [],
   "source": [
    "tuples=[]\n",
    "for i in ids_unique:\n",
    "    delivery=group_id.get_group(i).iloc[0]\n",
    "    p_nome=''\n",
    "    d_nome=''\n",
    "    if delivery['action']=='pickup':\n",
    "        p_nome=delivery['NOME']\n",
    "        delivery_2=group_id.get_group(i).iloc[1]\n",
    "        d_nome=delivery_2['NOME']\n",
    "    else:\n",
    "        d_nome=delivery['NOME']\n",
    "        delivery_2=group_id.get_group(i).iloc[1]\n",
    "        p_nome=delivery_2['NOME']\n",
    "\n",
    "    tuples.append((p_nome,d_nome))"
   ]
  },
  {
   "cell_type": "code",
   "execution_count": 267,
   "metadata": {},
   "outputs": [],
   "source": [
    "import networkx as nx"
   ]
  },
  {
   "cell_type": "code",
   "execution_count": 268,
   "metadata": {},
   "outputs": [],
   "source": [
    "G=nx.DiGraph()"
   ]
  },
  {
   "cell_type": "code",
   "execution_count": 269,
   "metadata": {},
   "outputs": [],
   "source": [
    "G.add_nodes_from(names)"
   ]
  },
  {
   "cell_type": "code",
   "execution_count": 270,
   "metadata": {},
   "outputs": [],
   "source": [
    "G.add_edges_from(tuples)"
   ]
  },
  {
   "cell_type": "code",
   "execution_count": null,
   "metadata": {},
   "outputs": [],
   "source": []
  },
  {
   "cell_type": "code",
   "execution_count": 271,
   "metadata": {},
   "outputs": [],
   "source": [
    "nx.write_gexf(G, \"../../data/data2/processed/steps_graph_barrios.gexf\")"
   ]
  },
  {
   "cell_type": "code",
   "execution_count": null,
   "metadata": {},
   "outputs": [],
   "source": []
  },
  {
   "cell_type": "code",
   "execution_count": null,
   "metadata": {},
   "outputs": [],
   "source": []
  },
  {
   "cell_type": "code",
   "execution_count": null,
   "metadata": {},
   "outputs": [],
   "source": []
  }
 ],
 "metadata": {
  "kernelspec": {
   "display_name": "Python 3.8.10 64-bit",
   "language": "python",
   "name": "python3"
  },
  "language_info": {
   "codemirror_mode": {
    "name": "ipython",
    "version": 3
   },
   "file_extension": ".py",
   "mimetype": "text/x-python",
   "name": "python",
   "nbconvert_exporter": "python",
   "pygments_lexer": "ipython3",
   "version": "3.8.10"
  },
  "orig_nbformat": 4,
  "vscode": {
   "interpreter": {
    "hash": "916dbcbb3f70747c44a77c7bcd40155683ae19c65e1c03b4aa3499c5328201f1"
   }
  }
 },
 "nbformat": 4,
 "nbformat_minor": 2
}
