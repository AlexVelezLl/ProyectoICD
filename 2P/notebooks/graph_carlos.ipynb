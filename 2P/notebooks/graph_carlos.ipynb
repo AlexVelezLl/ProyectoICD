{
 "cells": [
  {
   "cell_type": "code",
   "execution_count": 68,
   "metadata": {},
   "outputs": [],
   "source": [
    "import geopandas as gd\n",
    "import pandas as pd\n",
    "import networkx as nx"
   ]
  },
  {
   "cell_type": "code",
   "execution_count": 69,
   "metadata": {},
   "outputs": [],
   "source": [
    "path_geo_barrios = '../../data/geodata_bh/BAIRRO_POPULAR_4326.geojson'\n",
    "path_geo_sectores='../../data/BH_regions.geojson'\n",
    "path_geo_estado='../../data/data2/MG.json'\n",
    "path_steps='../../data/data2/processed/steps_2.2.csv'"
   ]
  },
  {
   "cell_type": "code",
   "execution_count": 70,
   "metadata": {},
   "outputs": [],
   "source": [
    "geo_barrios = gd.read_file(path_geo_barrios, driver='GeoJSON')\n",
    "geo_sectores = gd.read_file(path_geo_sectores, driver='GeoJSON')\n",
    "geo_estado = gd.read_file(path_geo_estado, driver='GeoJSON')\n",
    "geo_barrios.NOME=geo_barrios.NOME.apply(lambda x: x+'_BH')\n",
    "geo_sectores.NOME=geo_sectores.NOME.apply(lambda x: x+'_BH')\n",
    "df=pd.read_csv(path_steps,encoding='latin-1' )\n",
    "gdf_deliveries = gd.GeoDataFrame(df, geometry=gd.points_from_xy(df[\"lng\"], df[\"lat\"]))"
   ]
  },
  {
   "cell_type": "code",
   "execution_count": null,
   "metadata": {},
   "outputs": [],
   "source": []
  },
  {
   "cell_type": "markdown",
   "metadata": {},
   "source": [
    "### Obteniendo grafos de Localidades externas con barrios de BH"
   ]
  },
  {
   "cell_type": "code",
   "execution_count": 71,
   "metadata": {},
   "outputs": [],
   "source": [
    "def get_tuples(ids_unique,group_id):\n",
    "    tuples=[]\n",
    "    for i in ids_unique:\n",
    "        delivery=group_id.get_group(i).iloc[0]\n",
    "        p_nome=''\n",
    "        d_nome=''\n",
    "        if delivery['action']=='pickup':\n",
    "            p_nome=delivery['NOME']\n",
    "            delivery_2=group_id.get_group(i).iloc[1]\n",
    "            d_nome=delivery_2['NOME']\n",
    "        else:\n",
    "            d_nome=delivery['NOME']\n",
    "            delivery_2=group_id.get_group(i).iloc[1]\n",
    "            p_nome=delivery_2['NOME']\n",
    "\n",
    "    tuples.append((p_nome,d_nome))\n",
    "    return tuples"
   ]
  },
  {
   "cell_type": "code",
   "execution_count": 72,
   "metadata": {},
   "outputs": [
    {
     "name": "stderr",
     "output_type": "stream",
     "text": [
      "/home/caloja/.local/lib/python3.8/site-packages/IPython/core/interactiveshell.py:3337: FutureWarning: The `op` parameter is deprecated and will be removed in a future release. Please use the `predicate` parameter instead.\n",
      "  if await self.run_code(code, result, async_=asy):\n",
      "/tmp/ipykernel_60827/3787890695.py:1: UserWarning: CRS mismatch between the CRS of left geometries and the CRS of right geometries.\n",
      "Use `to_crs()` to reproject one of the input geometries to match the CRS of the other.\n",
      "\n",
      "Left CRS: None\n",
      "Right CRS: EPSG:4326\n",
      "\n",
      "  dfgeo_ext_BH = gd.sjoin(gdf_deliveries, geo_barrios, how='left', op='within')\n"
     ]
    }
   ],
   "source": [
    "dfgeo_ext_BH = gd.sjoin(gdf_deliveries, geo_barrios, how='left', op='within')"
   ]
  },
  {
   "cell_type": "code",
   "execution_count": 73,
   "metadata": {},
   "outputs": [],
   "source": [
    "df_geo_not_in_belohorizonte=dfgeo_ext_BH[dfgeo_ext_BH['NOME'].isnull()].drop(columns=['index_right','ID', 'CODIGO', 'NOME', 'AREA_KM2', 'PERIMETR_M'])\n",
    "df_geo_in_belohorizonte=dfgeo_ext_BH[~dfgeo_ext_BH['NOME'].isnull()].drop(columns=['index_right','ID', 'CODIGO', 'AREA_KM2', 'PERIMETR_M'])"
   ]
  },
  {
   "cell_type": "code",
   "execution_count": 74,
   "metadata": {},
   "outputs": [
    {
     "name": "stderr",
     "output_type": "stream",
     "text": [
      "/home/caloja/.local/lib/python3.8/site-packages/IPython/core/interactiveshell.py:3337: FutureWarning: The `op` parameter is deprecated and will be removed in a future release. Please use the `predicate` parameter instead.\n",
      "  if await self.run_code(code, result, async_=asy):\n",
      "/tmp/ipykernel_60827/3235581401.py:1: UserWarning: CRS mismatch between the CRS of left geometries and the CRS of right geometries.\n",
      "Use `to_crs()` to reproject one of the input geometries to match the CRS of the other.\n",
      "\n",
      "Left CRS: None\n",
      "Right CRS: EPSG:4326\n",
      "\n",
      "  gdf_deliveries_mg_out = gd.sjoin(df_geo_not_in_belohorizonte, geo_estado, how='left', op='within')\n"
     ]
    }
   ],
   "source": [
    "gdf_deliveries_mg_out = gd.sjoin(df_geo_not_in_belohorizonte, geo_estado, how='left', op='within')"
   ]
  },
  {
   "cell_type": "code",
   "execution_count": 75,
   "metadata": {},
   "outputs": [],
   "source": [
    "gdf_deliveries_mg_out_si=gdf_deliveries_mg_out[~gdf_deliveries_mg_out.NOME.isnull()].drop(columns=['index_right','GEOCODIGO', 'UF'])\n",
    "gdf_deliveries_mg_out_no=gdf_deliveries_mg_out[gdf_deliveries_mg_out.NOME.isnull()]"
   ]
  },
  {
   "cell_type": "code",
   "execution_count": 76,
   "metadata": {},
   "outputs": [],
   "source": [
    "df_complete_ext_BH=pd.concat([df_geo_in_belohorizonte,gdf_deliveries_mg_out_si])"
   ]
  },
  {
   "cell_type": "code",
   "execution_count": 77,
   "metadata": {},
   "outputs": [],
   "source": [
    "df_complete_ext_BH=df_complete_ext_BH[~df_complete_ext_BH.delivery_id.isin(gdf_deliveries_mg_out_no)]"
   ]
  },
  {
   "cell_type": "code",
   "execution_count": 78,
   "metadata": {},
   "outputs": [],
   "source": [
    "group_id=df_complete_ext_BH.groupby('delivery_id')\n",
    "ids_unique=df_complete_ext_BH.delivery_id.unique()\n",
    "names=df_complete_ext_BH.NOME.unique()"
   ]
  },
  {
   "cell_type": "code",
   "execution_count": 79,
   "metadata": {},
   "outputs": [],
   "source": [
    "G=nx.DiGraph()\n",
    "G.add_nodes_from(names)"
   ]
  },
  {
   "cell_type": "code",
   "execution_count": 80,
   "metadata": {},
   "outputs": [
    {
     "ename": "IndexError",
     "evalue": "single positional indexer is out-of-bounds",
     "output_type": "error",
     "traceback": [
      "\u001b[0;31m---------------------------------------------------------------------------\u001b[0m",
      "\u001b[0;31mIndexError\u001b[0m                                Traceback (most recent call last)",
      "\u001b[1;32m/home/caloja/Documents/University/DS/project/ProyectoICD/2P/notebooks/graph_carlos.ipynb Cell 15\u001b[0m in \u001b[0;36m<cell line: 1>\u001b[0;34m()\u001b[0m\n\u001b[0;32m----> <a href='vscode-notebook-cell:/home/caloja/Documents/University/DS/project/ProyectoICD/2P/notebooks/graph_carlos.ipynb#X21sZmlsZQ%3D%3D?line=0'>1</a>\u001b[0m tuples\u001b[39m=\u001b[39mget_tuples(ids_unique,group_id)\n",
      "\u001b[1;32m/home/caloja/Documents/University/DS/project/ProyectoICD/2P/notebooks/graph_carlos.ipynb Cell 15\u001b[0m in \u001b[0;36mget_tuples\u001b[0;34m(ids_unique, group_id)\u001b[0m\n\u001b[1;32m     <a href='vscode-notebook-cell:/home/caloja/Documents/University/DS/project/ProyectoICD/2P/notebooks/graph_carlos.ipynb#X21sZmlsZQ%3D%3D?line=10'>11</a>\u001b[0m     \u001b[39melse\u001b[39;00m:\n\u001b[1;32m     <a href='vscode-notebook-cell:/home/caloja/Documents/University/DS/project/ProyectoICD/2P/notebooks/graph_carlos.ipynb#X21sZmlsZQ%3D%3D?line=11'>12</a>\u001b[0m         d_nome\u001b[39m=\u001b[39mdelivery[\u001b[39m'\u001b[39m\u001b[39mNOME\u001b[39m\u001b[39m'\u001b[39m]\n\u001b[0;32m---> <a href='vscode-notebook-cell:/home/caloja/Documents/University/DS/project/ProyectoICD/2P/notebooks/graph_carlos.ipynb#X21sZmlsZQ%3D%3D?line=12'>13</a>\u001b[0m         delivery_2\u001b[39m=\u001b[39mgroup_id\u001b[39m.\u001b[39;49mget_group(i)\u001b[39m.\u001b[39;49miloc[\u001b[39m1\u001b[39;49m]\n\u001b[1;32m     <a href='vscode-notebook-cell:/home/caloja/Documents/University/DS/project/ProyectoICD/2P/notebooks/graph_carlos.ipynb#X21sZmlsZQ%3D%3D?line=13'>14</a>\u001b[0m         p_nome\u001b[39m=\u001b[39mdelivery_2[\u001b[39m'\u001b[39m\u001b[39mNOME\u001b[39m\u001b[39m'\u001b[39m]\n\u001b[1;32m     <a href='vscode-notebook-cell:/home/caloja/Documents/University/DS/project/ProyectoICD/2P/notebooks/graph_carlos.ipynb#X21sZmlsZQ%3D%3D?line=15'>16</a>\u001b[0m tuples\u001b[39m.\u001b[39mappend((p_nome,d_nome))\n",
      "File \u001b[0;32m~/.local/lib/python3.8/site-packages/pandas/core/indexing.py:967\u001b[0m, in \u001b[0;36m_LocationIndexer.__getitem__\u001b[0;34m(self, key)\u001b[0m\n\u001b[1;32m    964\u001b[0m axis \u001b[39m=\u001b[39m \u001b[39mself\u001b[39m\u001b[39m.\u001b[39maxis \u001b[39mor\u001b[39;00m \u001b[39m0\u001b[39m\n\u001b[1;32m    966\u001b[0m maybe_callable \u001b[39m=\u001b[39m com\u001b[39m.\u001b[39mapply_if_callable(key, \u001b[39mself\u001b[39m\u001b[39m.\u001b[39mobj)\n\u001b[0;32m--> 967\u001b[0m \u001b[39mreturn\u001b[39;00m \u001b[39mself\u001b[39;49m\u001b[39m.\u001b[39;49m_getitem_axis(maybe_callable, axis\u001b[39m=\u001b[39;49maxis)\n",
      "File \u001b[0;32m~/.local/lib/python3.8/site-packages/pandas/core/indexing.py:1520\u001b[0m, in \u001b[0;36m_iLocIndexer._getitem_axis\u001b[0;34m(self, key, axis)\u001b[0m\n\u001b[1;32m   1517\u001b[0m     \u001b[39mraise\u001b[39;00m \u001b[39mTypeError\u001b[39;00m(\u001b[39m\"\u001b[39m\u001b[39mCannot index by location index with a non-integer key\u001b[39m\u001b[39m\"\u001b[39m)\n\u001b[1;32m   1519\u001b[0m \u001b[39m# validate the location\u001b[39;00m\n\u001b[0;32m-> 1520\u001b[0m \u001b[39mself\u001b[39;49m\u001b[39m.\u001b[39;49m_validate_integer(key, axis)\n\u001b[1;32m   1522\u001b[0m \u001b[39mreturn\u001b[39;00m \u001b[39mself\u001b[39m\u001b[39m.\u001b[39mobj\u001b[39m.\u001b[39m_ixs(key, axis\u001b[39m=\u001b[39maxis)\n",
      "File \u001b[0;32m~/.local/lib/python3.8/site-packages/pandas/core/indexing.py:1452\u001b[0m, in \u001b[0;36m_iLocIndexer._validate_integer\u001b[0;34m(self, key, axis)\u001b[0m\n\u001b[1;32m   1450\u001b[0m len_axis \u001b[39m=\u001b[39m \u001b[39mlen\u001b[39m(\u001b[39mself\u001b[39m\u001b[39m.\u001b[39mobj\u001b[39m.\u001b[39m_get_axis(axis))\n\u001b[1;32m   1451\u001b[0m \u001b[39mif\u001b[39;00m key \u001b[39m>\u001b[39m\u001b[39m=\u001b[39m len_axis \u001b[39mor\u001b[39;00m key \u001b[39m<\u001b[39m \u001b[39m-\u001b[39mlen_axis:\n\u001b[0;32m-> 1452\u001b[0m     \u001b[39mraise\u001b[39;00m \u001b[39mIndexError\u001b[39;00m(\u001b[39m\"\u001b[39m\u001b[39msingle positional indexer is out-of-bounds\u001b[39m\u001b[39m\"\u001b[39m)\n",
      "\u001b[0;31mIndexError\u001b[0m: single positional indexer is out-of-bounds"
     ]
    }
   ],
   "source": [
    "tuples=get_tuples(ids_unique,group_id)"
   ]
  },
  {
   "cell_type": "code",
   "execution_count": null,
   "metadata": {},
   "outputs": [],
   "source": [
    "G.add_edges_from(tuples)"
   ]
  },
  {
   "cell_type": "code",
   "execution_count": null,
   "metadata": {},
   "outputs": [],
   "source": [
    "paht_to_save=\"../../data/data2/processed/steps_graph_barrios.gexf\"\n",
    "nx.write_gexf(G, paht_to_save)"
   ]
  },
  {
   "cell_type": "markdown",
   "metadata": {},
   "source": [
    "### Obteniendo grafos de Localidades externas con SECTORES de BH"
   ]
  },
  {
   "cell_type": "code",
   "execution_count": null,
   "metadata": {},
   "outputs": [
    {
     "name": "stderr",
     "output_type": "stream",
     "text": [
      "/home/caloja/.local/lib/python3.8/site-packages/IPython/core/interactiveshell.py:3337: FutureWarning: The `op` parameter is deprecated and will be removed in a future release. Please use the `predicate` parameter instead.\n",
      "  if await self.run_code(code, result, async_=asy):\n",
      "/tmp/ipykernel_60827/1315085384.py:1: UserWarning: CRS mismatch between the CRS of left geometries and the CRS of right geometries.\n",
      "Use `to_crs()` to reproject one of the input geometries to match the CRS of the other.\n",
      "\n",
      "Left CRS: None\n",
      "Right CRS: EPSG:4326\n",
      "\n",
      "  dfgeo_ext__SECT_BH = gd.sjoin(gdf_deliveries, geo_estado, how='left', op='within')\n"
     ]
    }
   ],
   "source": [
    "dfgeo_ext__SECT_BH = gd.sjoin(gdf_deliveries, geo_estado, how='left', op='within')"
   ]
  },
  {
   "cell_type": "code",
   "execution_count": null,
   "metadata": {},
   "outputs": [],
   "source": [
    "df_geo_not_in_belohorizonte_SECT=dfgeo_ext__SECT_BH[dfgeo_ext__SECT_BH['NOME'].isnull()].drop(columns=['index_right','GEOCODIGO','UF','NOME'])\n",
    "df_geo_in_belohorizonte_SECT=dfgeo_ext__SECT_BH[~dfgeo_ext__SECT_BH['NOME'].isnull()].drop(columns=['index_right','GEOCODIGO','UF'])"
   ]
  },
  {
   "cell_type": "code",
   "execution_count": null,
   "metadata": {},
   "outputs": [
    {
     "name": "stderr",
     "output_type": "stream",
     "text": [
      "/home/caloja/.local/lib/python3.8/site-packages/IPython/core/interactiveshell.py:3337: FutureWarning: The `op` parameter is deprecated and will be removed in a future release. Please use the `predicate` parameter instead.\n",
      "  if await self.run_code(code, result, async_=asy):\n",
      "/tmp/ipykernel_60827/227671126.py:1: UserWarning: CRS mismatch between the CRS of left geometries and the CRS of right geometries.\n",
      "Use `to_crs()` to reproject one of the input geometries to match the CRS of the other.\n",
      "\n",
      "Left CRS: None\n",
      "Right CRS: EPSG:4326\n",
      "\n",
      "  gdf_deliveries_mg_out_SECT = gd.sjoin(df_geo_not_in_belohorizonte_SECT, geo_estado, how='left', op='within')\n"
     ]
    }
   ],
   "source": [
    "gdf_deliveries_mg_out_SECT = gd.sjoin(df_geo_not_in_belohorizonte_SECT, geo_estado, how='left', op='within')"
   ]
  },
  {
   "cell_type": "code",
   "execution_count": null,
   "metadata": {},
   "outputs": [],
   "source": [
    "gdf_deliveries_mg_out_si_SECT=gdf_deliveries_mg_out_SECT[~gdf_deliveries_mg_out_SECT.NOME.isnull()].drop(columns=['index_right','GEOCODIGO', 'UF'])\n",
    "gdf_deliveries_mg_out_no_SECT=gdf_deliveries_mg_out_SECT[gdf_deliveries_mg_out_SECT.NOME.isnull()]"
   ]
  },
  {
   "cell_type": "code",
   "execution_count": null,
   "metadata": {},
   "outputs": [],
   "source": [
    "df_complete_ext_BH_SECT=pd.concat([df_geo_in_belohorizonte_SECT,gdf_deliveries_mg_out_si_SECT])"
   ]
  },
  {
   "cell_type": "code",
   "execution_count": null,
   "metadata": {},
   "outputs": [],
   "source": [
    "df_complete_ext_BH_SECT=df_complete_ext_BH_SECT[~df_complete_ext_BH_SECT.delivery_id.isin(gdf_deliveries_mg_out_no_SECT)]"
   ]
  },
  {
   "cell_type": "code",
   "execution_count": null,
   "metadata": {},
   "outputs": [],
   "source": [
    "group_id=df_complete_ext_BH_SECT.groupby('delivery_id')\n",
    "ids_unique=df_complete_ext_BH_SECT.delivery_id.unique()\n",
    "names=df_complete_ext_BH_SECT.NOME.unique()"
   ]
  },
  {
   "cell_type": "code",
   "execution_count": null,
   "metadata": {},
   "outputs": [],
   "source": [
    "G=nx.DiGraph()\n",
    "G.add_nodes_from(names)"
   ]
  },
  {
   "cell_type": "code",
   "execution_count": null,
   "metadata": {},
   "outputs": [],
   "source": [
    "tuples=get_tuples(ids_unique,group_id)"
   ]
  },
  {
   "cell_type": "code",
   "execution_count": null,
   "metadata": {},
   "outputs": [],
   "source": [
    "G.add_edges_from(tuples)"
   ]
  },
  {
   "cell_type": "code",
   "execution_count": null,
   "metadata": {},
   "outputs": [],
   "source": [
    "paht_to_save=\"../../data/data2/processed/steps_graph_SECT.gexf\"\n",
    "nx.write_gexf(G, paht_to_save)"
   ]
  },
  {
   "cell_type": "markdown",
   "metadata": {},
   "source": [
    "### Obteniendo grafo de barrios en BH"
   ]
  },
  {
   "cell_type": "code",
   "execution_count": null,
   "metadata": {},
   "outputs": [
    {
     "name": "stderr",
     "output_type": "stream",
     "text": [
      "/home/caloja/.local/lib/python3.8/site-packages/IPython/core/interactiveshell.py:3337: FutureWarning: The `op` parameter is deprecated and will be removed in a future release. Please use the `predicate` parameter instead.\n",
      "  if await self.run_code(code, result, async_=asy):\n",
      "/tmp/ipykernel_60827/3964527023.py:1: UserWarning: CRS mismatch between the CRS of left geometries and the CRS of right geometries.\n",
      "Use `to_crs()` to reproject one of the input geometries to match the CRS of the other.\n",
      "\n",
      "Left CRS: None\n",
      "Right CRS: EPSG:4326\n",
      "\n",
      "  dfgeo_ext__BARR_BH = gd.sjoin(gdf_deliveries, geo_barrios, how='left', op='within')\n"
     ]
    }
   ],
   "source": [
    "dfgeo_ext__BARR_BH = gd.sjoin(gdf_deliveries, geo_barrios, how='left', op='within')"
   ]
  },
  {
   "cell_type": "code",
   "execution_count": null,
   "metadata": {},
   "outputs": [],
   "source": [
    "dfgeo_ext__BARR_BH=dfgeo_ext__BARR_BH.drop(columns=['index_right','ID', 'CODIGO', 'AREA_KM2', 'PERIMETR_M'])"
   ]
  },
  {
   "cell_type": "code",
   "execution_count": null,
   "metadata": {},
   "outputs": [],
   "source": [
    "df_geo_not_in_belohorizonte_BARR=dfgeo_ext__BARR_BH[dfgeo_ext__BARR_BH['NOME'].isnull()]\n",
    "df_geo_in_belohorizonte_BARR=dfgeo_ext__BARR_BH[~dfgeo_ext__BARR_BH['NOME'].isnull()]"
   ]
  },
  {
   "cell_type": "code",
   "execution_count": null,
   "metadata": {},
   "outputs": [],
   "source": [
    "df_complete_ext_BH_BARR=df_geo_in_belohorizonte_BARR[~df_geo_in_belohorizonte_BARR.delivery_id.isin(df_geo_not_in_belohorizonte_BARR)]"
   ]
  },
  {
   "cell_type": "code",
   "execution_count": null,
   "metadata": {},
   "outputs": [],
   "source": [
    "group_id=df_complete_ext_BH_BARR.groupby('delivery_id')\n",
    "ids_unique=df_complete_ext_BH_BARR.delivery_id.unique()\n",
    "names=df_complete_ext_BH_BARR.NOME.unique()"
   ]
  },
  {
   "cell_type": "code",
   "execution_count": null,
   "metadata": {},
   "outputs": [],
   "source": [
    "G=nx.DiGraph()\n",
    "G.add_nodes_from(names)"
   ]
  },
  {
   "cell_type": "code",
   "execution_count": null,
   "metadata": {},
   "outputs": [],
   "source": [
    "tuples=get_tuples(ids_unique,group_id)"
   ]
  },
  {
   "cell_type": "code",
   "execution_count": null,
   "metadata": {},
   "outputs": [],
   "source": [
    "G.add_edges_from(tuples)"
   ]
  },
  {
   "cell_type": "code",
   "execution_count": null,
   "metadata": {},
   "outputs": [],
   "source": [
    "paht_to_save=\"../../data/data2/processed/steps_graph_BARR.gexf\"\n",
    "nx.write_gexf(G, paht_to_save)"
   ]
  }
 ],
 "metadata": {
  "kernelspec": {
   "display_name": "Python 3.8.10 64-bit",
   "language": "python",
   "name": "python3"
  },
  "language_info": {
   "codemirror_mode": {
    "name": "ipython",
    "version": 3
   },
   "file_extension": ".py",
   "mimetype": "text/x-python",
   "name": "python",
   "nbconvert_exporter": "python",
   "pygments_lexer": "ipython3",
   "version": "3.8.10"
  },
  "orig_nbformat": 4,
  "vscode": {
   "interpreter": {
    "hash": "916dbcbb3f70747c44a77c7bcd40155683ae19c65e1c03b4aa3499c5328201f1"
   }
  }
 },
 "nbformat": 4,
 "nbformat_minor": 2
}
