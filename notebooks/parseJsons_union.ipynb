{
 "cells": [
  {
   "cell_type": "code",
   "execution_count": 4,
   "metadata": {},
   "outputs": [],
   "source": [
    "import os\n",
    "import pandas as pd"
   ]
  },
  {
   "cell_type": "code",
   "execution_count": 20,
   "metadata": {},
   "outputs": [],
   "source": [
    "def parse_line(line:str):\n",
    "  current = 0\n",
    "  lineResult = \"\"\n",
    "  while current < len (line):\n",
    "    objeto = line.find('\"{', current)\n",
    "    lista = line.find('\"[', current)\n",
    "    if objeto > -1 and (lista > -1 and objeto < lista or lista == -1):\n",
    "      lineResult += line[current:objeto+1]\n",
    "      objetoEnd = line.find('}\"', objeto+1)\n",
    "      if objetoEnd == -1:\n",
    "        raise Exception(\"Error al parsear objeto en el delivery: \", line.split(\",\")[0], \" cursor: \", current)\n",
    "      lineResult += line[objeto+1:objetoEnd+1].replace('\"', \"'\") + '\"'\n",
    "      current = objetoEnd + 2\n",
    "    elif lista > -1:\n",
    "      lineResult += line[current:lista+1]\n",
    "      listaEnd = line.find(']\"', lista+1)\n",
    "      if listaEnd == -1:\n",
    "        raise Exception(\"Error al parsear objeto en el delivery: \", line.split(\",\")[0], \" cursor: \", current)\n",
    "      lineResult += line[lista+1:listaEnd+1].replace('\"', \"'\") + '\"'\n",
    "      current = listaEnd + 2\n",
    "    else:\n",
    "      lineResult += line[current:]\n",
    "      break\n",
    "  return lineResult"
   ]
  },
  {
   "cell_type": "code",
   "execution_count": 22,
   "metadata": {},
   "outputs": [
    {
     "name": "stdout",
     "output_type": "stream",
     "text": [
      "('Error al parsear objeto en el delivery: ', 't-amabrt-1787948', ' cursor: ', 2364)\n",
      "('Error al parsear objeto en el delivery: ', 't-amabrt-1791223', ' cursor: ', 2127)\n",
      "('Error al parsear objeto en el delivery: ', 't-amacnf-1152637', ' cursor: ', 2370)\n",
      "('Error al parsear objeto en el delivery: ', 't-amaste-1248572', ' cursor: ', 2284)\n",
      "('Error al parsear objeto en el delivery: ', 't-casrde-290021', ' cursor: ', 1570)\n",
      "('Error al parsear objeto en el delivery: ', 't-petz-3203755', ' cursor: ', 2500)\n"
     ]
    }
   ],
   "source": [
    "files = os.listdir('../data')\n",
    "for file in filter(lambda x: x.endswith('.csv'), files):\n",
    "  input_path = os.path.join(os.path.abspath('../data'), file)\n",
    "  output_path = os.path.join(os.path.abspath('../data/parsed'), file)\n",
    "  with open(input_path, encoding='utf-8') as f:\n",
    "    with open(output_path, 'w', encoding='utf-8') as g:\n",
    "      g.write(f.readline())\n",
    "      for line in f:\n",
    "        try:\n",
    "          g.write(parse_line(line))\n",
    "        except Exception as e:\n",
    "          print(e)"
   ]
  },
  {
   "cell_type": "code",
   "execution_count": 30,
   "metadata": {},
   "outputs": [
    {
     "name": "stderr",
     "output_type": "stream",
     "text": [
      "c:\\Python39\\lib\\site-packages\\IPython\\core\\interactiveshell.py:3457: DtypeWarning: Columns (4,69) have mixed types.Specify dtype option on import or set low_memory=False.\n",
      "  exec(code_obj, self.user_global_ns, self.user_ns)\n",
      "c:\\Python39\\lib\\site-packages\\IPython\\core\\interactiveshell.py:3457: DtypeWarning: Columns (0) have mixed types.Specify dtype option on import or set low_memory=False.\n",
      "  exec(code_obj, self.user_global_ns, self.user_ns)\n"
     ]
    }
   ],
   "source": [
    "files = os.listdir('../data/parsed')\n",
    "deliveries = pd.DataFrame()\n",
    "events = pd.DataFrame()\n",
    "for file in  filter(lambda x: x.endswith('.csv'), files):\n",
    "  input_path = os.path.join(os.path.abspath('../data/parsed'), file)\n",
    "  df = pd.read_csv(input_path, encoding='utf-8')\n",
    "  if file.startswith('deliveries'):\n",
    "    deliveries = pd.concat([deliveries, df])\n",
    "  else:\n",
    "    events = pd.concat([events, df])\n"
   ]
  },
  {
   "cell_type": "code",
   "execution_count": null,
   "metadata": {},
   "outputs": [],
   "source": []
  },
  {
   "cell_type": "code",
   "execution_count": 32,
   "metadata": {},
   "outputs": [],
   "source": [
    "# Avoiding double database reads\n",
    "deliveries.drop_duplicates(subset=['id'], inplace=True)\n",
    "events.drop_duplicates(subset=['id'], inplace=True)"
   ]
  },
  {
   "cell_type": "code",
   "execution_count": 33,
   "metadata": {},
   "outputs": [],
   "source": [
    "deliveries.to_csv(os.path.join(os.path.abspath('../data/parsed'), 'deliveries.csv'), index=False)\n",
    "events.to_csv(os.path.join(os.path.abspath('../data/parsed'), 'events.csv'), index=False)"
   ]
  }
 ],
 "metadata": {
  "kernelspec": {
   "display_name": "Python 3.8.10 64-bit",
   "language": "python",
   "name": "python3"
  },
  "language_info": {
   "codemirror_mode": {
    "name": "ipython",
    "version": 3
   },
   "file_extension": ".py",
   "mimetype": "text/x-python",
   "name": "python",
   "nbconvert_exporter": "python",
   "pygments_lexer": "ipython3",
   "version": "3.8.10"
  },
  "orig_nbformat": 4,
  "vscode": {
   "interpreter": {
    "hash": "916dbcbb3f70747c44a77c7bcd40155683ae19c65e1c03b4aa3499c5328201f1"
   }
  }
 },
 "nbformat": 4,
 "nbformat_minor": 2
}
