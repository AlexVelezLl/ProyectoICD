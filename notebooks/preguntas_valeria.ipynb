{
 "cells": [
  {
   "cell_type": "code",
   "execution_count": 2,
   "metadata": {},
   "outputs": [],
   "source": [
    "import numpy as np\n",
    "import matplotlib.pyplot as plt\n",
    "import pandas as pd\n",
    "pd.get_option(\"display.max_columns\")\n",
    "import seaborn as sns\n",
    "#import rgb2hex\n",
    "\n",
    "\n"
   ]
  },
  {
   "cell_type": "code",
   "execution_count": 22,
   "id": "9e71c289",
   "metadata": {},
   "outputs": [
    {
     "data": {
      "text/plain": [
       "id                        object\n",
       "route_id                  object\n",
       "state                      int64\n",
       "_status                   object\n",
       "items                     object\n",
       "total_size                 int64\n",
       "pickupLat                float64\n",
       "pickupLng                float64\n",
       "deliveryLat              float64\n",
       "deliveryLng              float64\n",
       "pickup_dt                 object\n",
       "max_pickup_dt             object\n",
       "pickup_arrival_dt         object\n",
       "pickup_effective_dt       object\n",
       "delivery_dt               object\n",
       "max_delivery_dt           object\n",
       "delivery_arrival_dt       object\n",
       "delivery_effective_dt     object\n",
       "cost                     float64\n",
       "final_price              float64\n",
       "distance                 float64\n",
       "shipper_id               float64\n",
       "distance_charged         float64\n",
       "distance_route           float64\n",
       "total_package_price      float64\n",
       "vehicle_capacity         float64\n",
       "dtype: object"
      ]
     },
     "execution_count": 22,
     "metadata": {},
     "output_type": "execute_result"
    }
   ],
   "source": [
    "df = pd.read_csv('../data/clean/deliveries.csv')\n",
    "df.dtypes"
   ]
  },
  {
   "cell_type": "code",
   "execution_count": 23,
   "id": "6f38bfce",
   "metadata": {},
   "outputs": [],
   "source": [
    "df['pickup_arrival_dt'] = pd.to_datetime(df['pickup_arrival_dt']).dt.tz_localize('UTC').dt.tz_convert('America/Fortaleza')\n",
    "df['delivery_arrival_dt'] = pd.to_datetime(df['delivery_arrival_dt']).dt.tz_localize('UTC').dt.tz_convert('America/Fortaleza')\n",
    "df['week_day_pickup'] = df['pickup_arrival_dt'].dt.day_name()\n",
    "df['week_day_delivery'] = df['delivery_arrival_dt'].dt.day_name()\n"
   ]
  },
  {
   "cell_type": "code",
   "execution_count": 24,
   "id": "9c871ffb",
   "metadata": {},
   "outputs": [
    {
     "data": {
      "text/html": [
       "<div>\n",
       "<style scoped>\n",
       "    .dataframe tbody tr th:only-of-type {\n",
       "        vertical-align: middle;\n",
       "    }\n",
       "\n",
       "    .dataframe tbody tr th {\n",
       "        vertical-align: top;\n",
       "    }\n",
       "\n",
       "    .dataframe thead th {\n",
       "        text-align: right;\n",
       "    }\n",
       "</style>\n",
       "<table border=\"1\" class=\"dataframe\">\n",
       "  <thead>\n",
       "    <tr style=\"text-align: right;\">\n",
       "      <th></th>\n",
       "      <th>week_day_pickup</th>\n",
       "      <th>pickups_per_day</th>\n",
       "    </tr>\n",
       "  </thead>\n",
       "  <tbody>\n",
       "    <tr>\n",
       "      <th>0</th>\n",
       "      <td>Friday</td>\n",
       "      <td>12952</td>\n",
       "    </tr>\n",
       "    <tr>\n",
       "      <th>1</th>\n",
       "      <td>Monday</td>\n",
       "      <td>20209</td>\n",
       "    </tr>\n",
       "    <tr>\n",
       "      <th>2</th>\n",
       "      <td>Saturday</td>\n",
       "      <td>7310</td>\n",
       "    </tr>\n",
       "    <tr>\n",
       "      <th>3</th>\n",
       "      <td>Sunday</td>\n",
       "      <td>2334</td>\n",
       "    </tr>\n",
       "    <tr>\n",
       "      <th>4</th>\n",
       "      <td>Thursday</td>\n",
       "      <td>13148</td>\n",
       "    </tr>\n",
       "  </tbody>\n",
       "</table>\n",
       "</div>"
      ],
      "text/plain": [
       "  week_day_pickup  pickups_per_day\n",
       "0          Friday            12952\n",
       "1          Monday            20209\n",
       "2        Saturday             7310\n",
       "3          Sunday             2334\n",
       "4        Thursday            13148"
      ]
     },
     "execution_count": 24,
     "metadata": {},
     "output_type": "execute_result"
    }
   ],
   "source": [
    "pickup_per_day = df.groupby('week_day_pickup')['id'].count().reset_index()\n",
    "pickup_per_day.columns = ['week_day_pickup', 'pickups_per_day']\n",
    "pickup_per_day.head()"
   ]
  },
  {
   "cell_type": "code",
   "execution_count": 25,
   "id": "efca7bdc",
   "metadata": {},
   "outputs": [
    {
     "data": {
      "text/html": [
       "<div>\n",
       "<style scoped>\n",
       "    .dataframe tbody tr th:only-of-type {\n",
       "        vertical-align: middle;\n",
       "    }\n",
       "\n",
       "    .dataframe tbody tr th {\n",
       "        vertical-align: top;\n",
       "    }\n",
       "\n",
       "    .dataframe thead th {\n",
       "        text-align: right;\n",
       "    }\n",
       "</style>\n",
       "<table border=\"1\" class=\"dataframe\">\n",
       "  <thead>\n",
       "    <tr style=\"text-align: right;\">\n",
       "      <th></th>\n",
       "      <th>week_day_delivery</th>\n",
       "      <th>deliveries_per_day</th>\n",
       "    </tr>\n",
       "  </thead>\n",
       "  <tbody>\n",
       "    <tr>\n",
       "      <th>1</th>\n",
       "      <td>Monday</td>\n",
       "      <td>19644</td>\n",
       "    </tr>\n",
       "    <tr>\n",
       "      <th>5</th>\n",
       "      <td>Tuesday</td>\n",
       "      <td>18400</td>\n",
       "    </tr>\n",
       "    <tr>\n",
       "      <th>6</th>\n",
       "      <td>Wednesday</td>\n",
       "      <td>16282</td>\n",
       "    </tr>\n",
       "    <tr>\n",
       "      <th>4</th>\n",
       "      <td>Thursday</td>\n",
       "      <td>13686</td>\n",
       "    </tr>\n",
       "    <tr>\n",
       "      <th>0</th>\n",
       "      <td>Friday</td>\n",
       "      <td>13052</td>\n",
       "    </tr>\n",
       "  </tbody>\n",
       "</table>\n",
       "</div>"
      ],
      "text/plain": [
       "  week_day_delivery  deliveries_per_day\n",
       "1            Monday               19644\n",
       "5           Tuesday               18400\n",
       "6         Wednesday               16282\n",
       "4          Thursday               13686\n",
       "0            Friday               13052"
      ]
     },
     "execution_count": 25,
     "metadata": {},
     "output_type": "execute_result"
    }
   ],
   "source": [
    "deliveries_per_day = df.groupby('week_day_delivery')['id'].count().reset_index()\n",
    "deliveries_per_day.columns = ['week_day_delivery', 'deliveries_per_day']\n",
    "# sort by week_day_delivery\n",
    "deliveries_per_day = deliveries_per_day.sort_values(by='deliveries_per_day', ascending=False)\n",
    "deliveries_per_day.head()"
   ]
  },
  {
   "cell_type": "code",
   "execution_count": 26,
   "id": "99f3ddd4",
   "metadata": {},
   "outputs": [
    {
     "data": {
      "text/plain": [
       "Text(0, 0.5, 'Number of pickups')"
      ]
     },
     "execution_count": 26,
     "metadata": {},
     "output_type": "execute_result"
    },
    {
     "data": {
      "image/png": "[encoded data removed]",
      "text/plain": [
       "<Figure size 720x360 with 1 Axes>"
      ]
     },
     "metadata": {},
     "output_type": "display_data"
    }
   ],
   "source": [
    "# barplot og week_day_pickup\n",
    "sns.set_style('darkgrid')\n",
    "fig, ax = plt.subplots(figsize=(10, 5))\n",
    "sns.barplot(x='week_day_pickup', y='pickups_per_day', data=pickup_per_day, ax=ax, palette='crest')\n",
    "ax.set_title('Pickup per day')\n",
    "ax.set_xlabel('Week day')\n",
    "ax.set_ylabel('Number of pickups')"
   ]
  },
  {
   "cell_type": "code",
   "execution_count": 27,
   "id": "9c9a8e25",
   "metadata": {},
   "outputs": [
    {
     "data": {
      "text/plain": [
       "Text(0, 0.5, 'Week day')"
      ]
     },
     "execution_count": 27,
     "metadata": {},
     "output_type": "execute_result"
    },
    {
     "data": {
      "image/png": "[encoded data removed]",
      "text/plain": [
       "<Figure size 1080x720 with 1 Axes>"
      ]
     },
     "metadata": {},
     "output_type": "display_data"
    }
   ],
   "source": [
    "# bar plot of week_day_delivery\n",
    "fig, ax = plt.subplots(figsize=(15, 10))\n",
    "sns.barplot(x='deliveries_per_day', y='week_day_delivery', data=deliveries_per_day, ax=ax,  palette='crest')\n",
    "ax.set_title('Delivery per day')\n",
    "ax.set_xlabel('Number of deliveries')\n",
    "ax.set_ylabel('Week day')\n"
   ]
  },
  {
   "cell_type": "code",
   "execution_count": 29,
   "id": "e3db8f41",
   "metadata": {},
   "outputs": [
    {
     "data": {
      "text/html": [
       "<div>\n",
       "<style scoped>\n",
       "    .dataframe tbody tr th:only-of-type {\n",
       "        vertical-align: middle;\n",
       "    }\n",
       "\n",
       "    .dataframe tbody tr th {\n",
       "        vertical-align: top;\n",
       "    }\n",
       "\n",
       "    .dataframe thead th {\n",
       "        text-align: right;\n",
       "    }\n",
       "</style>\n",
       "<table border=\"1\" class=\"dataframe\">\n",
       "  <thead>\n",
       "    <tr style=\"text-align: right;\">\n",
       "      <th></th>\n",
       "      <th>day</th>\n",
       "      <th>pickups_per_day</th>\n",
       "      <th>deliveries_per_day</th>\n",
       "      <th>total_activity</th>\n",
       "    </tr>\n",
       "  </thead>\n",
       "  <tbody>\n",
       "    <tr>\n",
       "      <th>0</th>\n",
       "      <td>1</td>\n",
       "      <td>115</td>\n",
       "      <td>95</td>\n",
       "      <td>210</td>\n",
       "    </tr>\n",
       "    <tr>\n",
       "      <th>1</th>\n",
       "      <td>2</td>\n",
       "      <td>4326</td>\n",
       "      <td>3816</td>\n",
       "      <td>8142</td>\n",
       "    </tr>\n",
       "    <tr>\n",
       "      <th>2</th>\n",
       "      <td>3</td>\n",
       "      <td>3619</td>\n",
       "      <td>3914</td>\n",
       "      <td>7533</td>\n",
       "    </tr>\n",
       "    <tr>\n",
       "      <th>3</th>\n",
       "      <td>4</td>\n",
       "      <td>4884</td>\n",
       "      <td>4285</td>\n",
       "      <td>9169</td>\n",
       "    </tr>\n",
       "    <tr>\n",
       "      <th>4</th>\n",
       "      <td>5</td>\n",
       "      <td>3847</td>\n",
       "      <td>4178</td>\n",
       "      <td>8025</td>\n",
       "    </tr>\n",
       "  </tbody>\n",
       "</table>\n",
       "</div>"
      ],
      "text/plain": [
       "   day  pickups_per_day  deliveries_per_day  total_activity\n",
       "0    1              115                  95             210\n",
       "1    2             4326                3816            8142\n",
       "2    3             3619                3914            7533\n",
       "3    4             4884                4285            9169\n",
       "4    5             3847                4178            8025"
      ]
     },
     "execution_count": 29,
     "metadata": {},
     "output_type": "execute_result"
    }
   ],
   "source": [
    "df2 = df.loc[df['pickup_arrival_dt'] <= '2022-05-31', ['id', 'pickup_arrival_dt', 'delivery_arrival_dt']]\n",
    "df2_activity_pickup = df2.groupby([pd.Grouper(key='pickup_arrival_dt', freq='D')])['id'].count().reset_index()\n",
    "df2_activity_delivery = df2.groupby([pd.Grouper(key='delivery_arrival_dt', freq='D')])['id'].count().reset_index()\n",
    "df2_activity_pickup.columns = ['day', 'pickups_per_day']\n",
    "df2_activity_delivery.columns = ['day', 'deliveries_per_day']\n",
    "df_total_activity = pd.merge(df2_activity_pickup, df2_activity_delivery, on='day', how='inner')\n",
    "df_total_activity['total_activity'] = df_total_activity['pickups_per_day'] + df_total_activity['deliveries_per_day']\n",
    "## format day to number of calendar day\n",
    "df_total_activity['day'] = df_total_activity['day'].dt.day\n",
    "\n",
    "df_total_activity.head()"
   ]
  },
  {
   "cell_type": "code",
   "execution_count": 30,
   "id": "31adfa46",
   "metadata": {},
   "outputs": [
    {
     "data": {
      "text/plain": [
       "84944"
      ]
     },
     "execution_count": 30,
     "metadata": {},
     "output_type": "execute_result"
    }
   ],
   "source": [
    "df_total_activity['pickups_per_day'].sum()"
   ]
  },
  {
   "cell_type": "code",
   "execution_count": 31,
   "id": "d50a345c",
   "metadata": {},
   "outputs": [
    {
     "data": {
      "text/plain": [
       "84624"
      ]
     },
     "execution_count": 31,
     "metadata": {},
     "output_type": "execute_result"
    }
   ],
   "source": [
    "df_total_activity['deliveries_per_day'].sum()\n"
   ]
  },
  {
   "cell_type": "code",
   "execution_count": 40,
   "id": "82dcfeb1",
   "metadata": {},
   "outputs": [
    {
     "data": {
      "text/plain": [
       "Text(0, 0.5, 'Activity')"
      ]
     },
     "execution_count": 40,
     "metadata": {},
     "output_type": "execute_result"
    },
    {
     "data": {
      "image/png": "[encoded data removed]",
      "text/plain": [
       "<Figure size 1080x720 with 1 Axes>"
      ]
     },
     "metadata": {},
     "output_type": "display_data"
    }
   ],
   "source": [
    "## line plot total deliveries per day\n",
    "sns.set_style('darkgrid')\n",
    "fig, ax = plt.subplots(figsize=(15, 10))\n",
    "sns.lineplot(x='day', y='pickups_per_day', data=df_total_activity,  markers=True, dashes=False, ax=ax , color='#3f908e')\n",
    "sns.lineplot(x='day', y='deliveries_per_day', data=df_total_activity,  markers=True, dashes=False, ax=ax , color='#7cb990')\n",
    "ax.legend(['Pickups', 'Deliveries'])\n",
    "max_delivery = df_total_activity['deliveries_per_day'].max()\n",
    "max_pickup = df_total_activity['pickups_per_day'].max()\n",
    "ax.set_title('Total activity per day')\n",
    "ax.set_xlabel('Day')\n",
    "ax.set_ylabel('Activity')\n",
    "\n"
   ]
  },
  {
   "cell_type": "code",
   "execution_count": 106,
   "metadata": {},
   "outputs": [
    {
     "data": {
      "text/html": [
       "<div>\n",
       "<style scoped>\n",
       "    .dataframe tbody tr th:only-of-type {\n",
       "        vertical-align: middle;\n",
       "    }\n",
       "\n",
       "    .dataframe tbody tr th {\n",
       "        vertical-align: top;\n",
       "    }\n",
       "\n",
       "    .dataframe thead th {\n",
       "        text-align: right;\n",
       "    }\n",
       "</style>\n",
       "<table border=\"1\" class=\"dataframe\">\n",
       "  <thead>\n",
       "    <tr style=\"text-align: right;\">\n",
       "      <th></th>\n",
       "      <th>id</th>\n",
       "      <th>route_id</th>\n",
       "      <th>delivery_effective_dt</th>\n",
       "      <th>max_delivery_dt</th>\n",
       "      <th>delay</th>\n",
       "      <th>has_delay</th>\n",
       "    </tr>\n",
       "  </thead>\n",
       "  <tbody>\n",
       "    <tr>\n",
       "      <th>0</th>\n",
       "      <td>t-amabrt-1743660</td>\n",
       "      <td>r-shiinc-1248026</td>\n",
       "      <td>2022-05-02 15:52:13</td>\n",
       "      <td>2022-05-02 15:41:51</td>\n",
       "      <td>0.172778</td>\n",
       "      <td>True</td>\n",
       "    </tr>\n",
       "    <tr>\n",
       "      <th>1</th>\n",
       "      <td>t-amabrt-1743661</td>\n",
       "      <td>r-shiinc-1248060</td>\n",
       "      <td>2022-05-02 17:16:29</td>\n",
       "      <td>2022-05-02 22:49:38</td>\n",
       "      <td>-5.552500</td>\n",
       "      <td>False</td>\n",
       "    </tr>\n",
       "    <tr>\n",
       "      <th>2</th>\n",
       "      <td>t-amabrt-1743662</td>\n",
       "      <td>r-shiinc-1248042</td>\n",
       "      <td>2022-05-02 19:14:19</td>\n",
       "      <td>2022-05-03 07:05:17</td>\n",
       "      <td>-11.849444</td>\n",
       "      <td>False</td>\n",
       "    </tr>\n",
       "    <tr>\n",
       "      <th>3</th>\n",
       "      <td>t-amabrt-1743663</td>\n",
       "      <td>r-shiinc-1248032</td>\n",
       "      <td>2022-05-02 20:56:31</td>\n",
       "      <td>2022-05-03 08:14:19</td>\n",
       "      <td>-11.296667</td>\n",
       "      <td>False</td>\n",
       "    </tr>\n",
       "    <tr>\n",
       "      <th>4</th>\n",
       "      <td>t-amabrt-1743664</td>\n",
       "      <td>r-shiinc-1248067</td>\n",
       "      <td>2022-05-02 17:27:24</td>\n",
       "      <td>2022-05-03 07:43:08</td>\n",
       "      <td>-14.262222</td>\n",
       "      <td>False</td>\n",
       "    </tr>\n",
       "  </tbody>\n",
       "</table>\n",
       "</div>"
      ],
      "text/plain": [
       "                 id          route_id delivery_effective_dt  \\\n",
       "0  t-amabrt-1743660  r-shiinc-1248026   2022-05-02 15:52:13   \n",
       "1  t-amabrt-1743661  r-shiinc-1248060   2022-05-02 17:16:29   \n",
       "2  t-amabrt-1743662  r-shiinc-1248042   2022-05-02 19:14:19   \n",
       "3  t-amabrt-1743663  r-shiinc-1248032   2022-05-02 20:56:31   \n",
       "4  t-amabrt-1743664  r-shiinc-1248067   2022-05-02 17:27:24   \n",
       "\n",
       "      max_delivery_dt      delay  has_delay  \n",
       "0 2022-05-02 15:41:51   0.172778       True  \n",
       "1 2022-05-02 22:49:38  -5.552500      False  \n",
       "2 2022-05-03 07:05:17 -11.849444      False  \n",
       "3 2022-05-03 08:14:19 -11.296667      False  \n",
       "4 2022-05-03 07:43:08 -14.262222      False  "
      ]
     },
     "execution_count": 106,
     "metadata": {},
     "output_type": "execute_result"
    }
   ],
   "source": [
    "df3 = df.loc[:, ['id','route_id', 'delivery_effective_dt', 'max_delivery_dt']]\n",
    "df3['delivery_effective_dt'] = pd.to_datetime(df3['delivery_effective_dt'])\n",
    "df3['max_delivery_dt'] = pd.to_datetime(df3['max_delivery_dt'])\n",
    "df3['delay'] = (df3['delivery_effective_dt'] - df3['max_delivery_dt']).dt.total_seconds() / 3600\n",
    "df3['has_delay'] = df3['delay'] > 0\n",
    "df3.head()"
   ]
  },
  {
   "cell_type": "code",
   "execution_count": 107,
   "id": "f6a8526e",
   "metadata": {},
   "outputs": [
    {
     "data": {
      "text/html": [
       "<div>\n",
       "<style scoped>\n",
       "    .dataframe tbody tr th:only-of-type {\n",
       "        vertical-align: middle;\n",
       "    }\n",
       "\n",
       "    .dataframe tbody tr th {\n",
       "        vertical-align: top;\n",
       "    }\n",
       "\n",
       "    .dataframe thead th {\n",
       "        text-align: right;\n",
       "    }\n",
       "</style>\n",
       "<table border=\"1\" class=\"dataframe\">\n",
       "  <thead>\n",
       "    <tr style=\"text-align: right;\">\n",
       "      <th></th>\n",
       "      <th>route_capacity</th>\n",
       "      <th>total_deliveries</th>\n",
       "      <th>total_deliveries_with_delay</th>\n",
       "      <th>percentage</th>\n",
       "    </tr>\n",
       "  </thead>\n",
       "  <tbody>\n",
       "    <tr>\n",
       "      <th>0</th>\n",
       "      <td>1</td>\n",
       "      <td>10</td>\n",
       "      <td>9</td>\n",
       "      <td>90.00</td>\n",
       "    </tr>\n",
       "    <tr>\n",
       "      <th>1</th>\n",
       "      <td>2</td>\n",
       "      <td>793</td>\n",
       "      <td>365</td>\n",
       "      <td>46.03</td>\n",
       "    </tr>\n",
       "    <tr>\n",
       "      <th>3</th>\n",
       "      <td>4</td>\n",
       "      <td>1664</td>\n",
       "      <td>628</td>\n",
       "      <td>37.74</td>\n",
       "    </tr>\n",
       "    <tr>\n",
       "      <th>4</th>\n",
       "      <td>5</td>\n",
       "      <td>178</td>\n",
       "      <td>52</td>\n",
       "      <td>29.21</td>\n",
       "    </tr>\n",
       "    <tr>\n",
       "      <th>2</th>\n",
       "      <td>3</td>\n",
       "      <td>87509</td>\n",
       "      <td>22408</td>\n",
       "      <td>25.61</td>\n",
       "    </tr>\n",
       "  </tbody>\n",
       "</table>\n",
       "</div>"
      ],
      "text/plain": [
       "   route_capacity  total_deliveries  total_deliveries_with_delay  percentage\n",
       "0               1                10                            9       90.00\n",
       "1               2               793                          365       46.03\n",
       "3               4              1664                          628       37.74\n",
       "4               5               178                           52       29.21\n",
       "2               3             87509                        22408       25.61"
      ]
     },
     "execution_count": 107,
     "metadata": {},
     "output_type": "execute_result"
    }
   ],
   "source": [
    "df_routes = pd.read_csv('../data/clean/routes.csv')\n",
    "df_final = pd.merge(df3, df_routes, on='route_id', how='inner')\n",
    "df_per_capacity = df_final.groupby('route_capacity').agg({'id': 'count', 'has_delay': 'sum'}).reset_index()\n",
    "df_per_capacity.columns = ['route_capacity', 'total_deliveries', 'total_deliveries_with_delay']\n",
    "df_per_capacity['percentage'] = ((df_per_capacity['total_deliveries_with_delay'] / df_per_capacity['total_deliveries'])*100).round(2)\n",
    "#sort by percentage\n",
    "df_per_capacity = df_per_capacity.sort_values(by='percentage', ascending=False)\n",
    "\n",
    "df_per_capacity"
   ]
  },
  {
   "cell_type": "code",
   "execution_count": 99,
   "id": "1dc81667",
   "metadata": {},
   "outputs": [
    {
     "data": {
      "text/html": [
       "<div>\n",
       "<style scoped>\n",
       "    .dataframe tbody tr th:only-of-type {\n",
       "        vertical-align: middle;\n",
       "    }\n",
       "\n",
       "    .dataframe tbody tr th {\n",
       "        vertical-align: top;\n",
       "    }\n",
       "\n",
       "    .dataframe thead th {\n",
       "        text-align: right;\n",
       "    }\n",
       "</style>\n",
       "<table border=\"1\" class=\"dataframe\">\n",
       "  <thead>\n",
       "    <tr style=\"text-align: right;\">\n",
       "      <th></th>\n",
       "      <th>route_capacity</th>\n",
       "      <th>total_deliveries</th>\n",
       "      <th>total_deliveries_with_delay</th>\n",
       "      <th>percentage</th>\n",
       "      <th>vehicle_type</th>\n",
       "    </tr>\n",
       "  </thead>\n",
       "  <tbody>\n",
       "    <tr>\n",
       "      <th>0</th>\n",
       "      <td>1</td>\n",
       "      <td>10</td>\n",
       "      <td>9</td>\n",
       "      <td>90.00</td>\n",
       "      <td>Bicycle</td>\n",
       "    </tr>\n",
       "    <tr>\n",
       "      <th>1</th>\n",
       "      <td>2</td>\n",
       "      <td>793</td>\n",
       "      <td>365</td>\n",
       "      <td>46.03</td>\n",
       "      <td>Motorcycle</td>\n",
       "    </tr>\n",
       "    <tr>\n",
       "      <th>3</th>\n",
       "      <td>4</td>\n",
       "      <td>1664</td>\n",
       "      <td>628</td>\n",
       "      <td>37.74</td>\n",
       "      <td>Van</td>\n",
       "    </tr>\n",
       "    <tr>\n",
       "      <th>4</th>\n",
       "      <td>5</td>\n",
       "      <td>178</td>\n",
       "      <td>52</td>\n",
       "      <td>29.21</td>\n",
       "      <td>Truck</td>\n",
       "    </tr>\n",
       "    <tr>\n",
       "      <th>2</th>\n",
       "      <td>3</td>\n",
       "      <td>87509</td>\n",
       "      <td>22408</td>\n",
       "      <td>25.61</td>\n",
       "      <td>Car</td>\n",
       "    </tr>\n",
       "  </tbody>\n",
       "</table>\n",
       "</div>"
      ],
      "text/plain": [
       "   route_capacity  total_deliveries  total_deliveries_with_delay  percentage  \\\n",
       "0               1                10                            9       90.00   \n",
       "1               2               793                          365       46.03   \n",
       "3               4              1664                          628       37.74   \n",
       "4               5               178                           52       29.21   \n",
       "2               3             87509                        22408       25.61   \n",
       "\n",
       "  vehicle_type  \n",
       "0      Bicycle  \n",
       "1   Motorcycle  \n",
       "3          Van  \n",
       "4        Truck  \n",
       "2          Car  "
      ]
     },
     "execution_count": 99,
     "metadata": {},
     "output_type": "execute_result"
    }
   ],
   "source": [
    "def set_vehicle_type(x):\n",
    "    if x == 1:\n",
    "        return 'Bicycle'\n",
    "    elif x == 2:\n",
    "        return 'Motorcycle'\n",
    "    elif x == 3:\n",
    "        return 'Car'\n",
    "    elif x == 4:\n",
    "        return 'Van'\n",
    "    else:\n",
    "        return 'Truck'\n",
    "\n",
    "df_per_capacity['vehicle_type'] = df_per_capacity['route_capacity'].apply(set_vehicle_type)\n",
    "df_per_capacity"
   ]
  },
  {
   "cell_type": "code",
   "execution_count": 102,
   "id": "5fd018f8",
   "metadata": {},
   "outputs": [
    {
     "data": {
      "text/plain": [
       "(0.0, 100.0)"
      ]
     },
     "execution_count": 102,
     "metadata": {},
     "output_type": "execute_result"
    },
    {
     "data": {
      "image/png": "[encoded data removed]",
      "text/plain": [
       "<Figure size 1080x720 with 1 Axes>"
      ]
     },
     "metadata": {},
     "output_type": "display_data"
    }
   ],
   "source": [
    "sns.set_style('darkgrid')\n",
    "fig, ax = plt.subplots(figsize=(15, 10))\n",
    "sns.barplot(x='percentage', y='vehicle_type', data=df_per_capacity, ax=ax, palette='crest')\n",
    "ax.set_title('Percentage of deliveries with delay per capacity')\n",
    "ax.set_xlabel('Percentage')\n",
    "ax.set_ylabel('Vehicle type')\n",
    "## limit on x\n",
    "ax.set_xlim(0, 100)"
   ]
  },
  {
   "cell_type": "code",
   "execution_count": 54,
   "id": "0ada238d",
   "metadata": {},
   "outputs": [
    {
     "data": {
      "text/plain": [
       "['#7cb990', '#58a590', '#3f908e', '#277a8b', '#1c6388', '#254a7f']"
      ]
     },
     "execution_count": 54,
     "metadata": {},
     "output_type": "execute_result"
    }
   ],
   "source": [
    "##obtain hex colors of palette\n",
    "palette = sns.color_palette('crest')\n",
    "hex_palette = ['#{:02x}{:02x}{:02x}'.format(int(rgb[0]*255), int(rgb[1]*255), int(rgb[2]*255)) for rgb in palette]\n",
    "hex_palette"
   ]
  }
 ],
 "metadata": {
  "kernelspec": {
   "display_name": "Python 3.8.10 64-bit",
   "language": "python",
   "name": "python3"
  },
  "language_info": {
   "codemirror_mode": {
    "name": "ipython",
    "version": 3
   },
   "file_extension": ".py",
   "mimetype": "text/x-python",
   "name": "python",
   "nbconvert_exporter": "python",
   "pygments_lexer": "ipython3",
   "version": "3.8.10"
  },
  "vscode": {
   "interpreter": {
    "hash": "916dbcbb3f70747c44a77c7bcd40155683ae19c65e1c03b4aa3499c5328201f1"
   }
  }
 },
 "nbformat": 4,
 "nbformat_minor": 5
}
