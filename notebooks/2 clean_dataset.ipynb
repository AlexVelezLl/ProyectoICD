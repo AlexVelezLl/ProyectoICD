{
 "cells": [
  {
   "cell_type": "code",
   "execution_count": 2,
   "metadata": {},
   "outputs": [],
   "source": [
    "import pandas as pd"
   ]
  },
  {
   "cell_type": "code",
   "execution_count": 3,
   "metadata": {},
   "outputs": [],
   "source": [
    "pd.set_option('display.max_columns', None)"
   ]
  },
  {
   "cell_type": "code",
   "execution_count": 4,
   "metadata": {},
   "outputs": [
    {
     "name": "stderr",
     "output_type": "stream",
     "text": [
      "c:\\Python39\\lib\\site-packages\\IPython\\core\\interactiveshell.py:3457: DtypeWarning: Columns (4,69) have mixed types.Specify dtype option on import or set low_memory=False.\n",
      "  exec(code_obj, self.user_global_ns, self.user_ns)\n"
     ]
    }
   ],
   "source": [
    "deliveries = pd.read_csv('../data/parsed/deliveries.csv')"
   ]
  },
  {
   "cell_type": "code",
   "execution_count": 5,
   "metadata": {},
   "outputs": [
    {
     "data": {
      "text/plain": [
       "(94290, 76)"
      ]
     },
     "execution_count": 5,
     "metadata": {},
     "output_type": "execute_result"
    }
   ],
   "source": [
    "deliveries.shape"
   ]
  },
  {
   "cell_type": "code",
   "execution_count": 6,
   "metadata": {},
   "outputs": [
    {
     "data": {
      "text/plain": [
       "(91727, 76)"
      ]
     },
     "execution_count": 6,
     "metadata": {},
     "output_type": "execute_result"
    }
   ],
   "source": [
    "# Sólo se considerarán los deliveries que estén en una ruta\n",
    "# Se eliminarán las filas que no tengan last_table_update ya que son rows mal parseados\n",
    "deliveries.dropna(subset=['last_table_update', 'route_id', 'vehicle_capacity'], inplace=True)\n",
    "deliveries.shape"
   ]
  },
  {
   "cell_type": "code",
   "execution_count": 7,
   "metadata": {},
   "outputs": [
    {
     "data": {
      "text/plain": [
       "(91727, 26)"
      ]
     },
     "execution_count": 7,
     "metadata": {},
     "output_type": "execute_result"
    }
   ],
   "source": [
    "unused_columns=[\n",
    "  'formula_id','dispatcher','first_name','last_name','mobile','company_api_id','company_plan_type','city_id','city_name','city_name','city_lang',\n",
    "  'country_code', 'country_name','currency_code','network_id','network_name','network_type','network_mode','network_company','is_available_to_shippers',\n",
    "  'company_parent_id','job_id','block','due_dt','pickup_due_dt','pickup_service_time','delivery_service_time','vehicle_id','partial','company_name',\n",
    "  'colleted', 'company_plan_type', 'company_mode', 'company_id', 'company_type', 'delivery_due_dt', 'delivery_location', 'delivery_type', 'insurance',\n",
    "  'last_event_params', 'last_table_update', 'notes', 'paid', 'pickup_location', 'receiver', 'return_id', 'shipper_is_visible_earnings',\n",
    "  'status_update_dt', 'tags', 'total_amount', 'attempts', 'creation_dt'\n",
    "]\n",
    "deliveries.drop(unused_columns, axis=1, inplace=True)\n",
    "deliveries.shape"
   ]
  },
  {
   "cell_type": "code",
   "execution_count": 8,
   "metadata": {},
   "outputs": [
    {
     "data": {
      "text/plain": [
       "(90587, 26)"
      ]
     },
     "execution_count": 8,
     "metadata": {},
     "output_type": "execute_result"
    }
   ],
   "source": [
    "date_fields = [\n",
    "  \"pickup_dt\", \"max_pickup_dt\", \"pickup_arrival_dt\", \"pickup_effective_dt\", \n",
    "  \"delivery_dt\", \"max_delivery_dt\", \"delivery_arrival_dt\", \"delivery_effective_dt\"\n",
    "]\n",
    "for field in date_fields:\n",
    "  deliveries = deliveries.loc[deliveries[field] != \"0000-00-00 00:00:00\"]\n",
    "  deliveries[field] = pd.to_datetime(deliveries[field])\n",
    "deliveries.dropna(subset=date_fields, inplace=True)\n",
    "deliveries.shape"
   ]
  },
  {
   "cell_type": "code",
   "execution_count": 9,
   "metadata": {},
   "outputs": [
    {
     "data": {
      "text/plain": [
       "(90154, 26)"
      ]
     },
     "execution_count": 9,
     "metadata": {},
     "output_type": "execute_result"
    }
   ],
   "source": [
    "# Tomar en cuenta solo los deliveries completados\n",
    "deliveries = deliveries.loc[deliveries['state'] == 7]\n",
    "deliveries.shape"
   ]
  },
  {
   "cell_type": "code",
   "execution_count": 10,
   "metadata": {},
   "outputs": [],
   "source": [
    "deliveries.to_csv('../data/clean/deliveries.csv', index=False)"
   ]
  }
 ],
 "metadata": {
  "kernelspec": {
   "display_name": "Python 3.9.0 64-bit",
   "language": "python",
   "name": "python3"
  },
  "language_info": {
   "codemirror_mode": {
    "name": "ipython",
    "version": 3
   },
   "file_extension": ".py",
   "mimetype": "text/x-python",
   "name": "python",
   "nbconvert_exporter": "python",
   "pygments_lexer": "ipython3",
   "version": "3.9.0"
  },
  "orig_nbformat": 4,
  "vscode": {
   "interpreter": {
    "hash": "81794d4967e6c3204c66dcd87b604927b115b27c00565d3d43f05ba2f3a2cb0d"
   }
  }
 },
 "nbformat": 4,
 "nbformat_minor": 2
}
