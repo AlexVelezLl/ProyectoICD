{
 "cells": [
  {
   "cell_type": "code",
   "execution_count": 2,
   "metadata": {},
   "outputs": [],
   "source": [
    "import pandas as pd\n",
    "import numpy as np\n",
    "import seaborn as sbn\n",
    "import matplotlib.pyplot as plt\n",
    "from scipy import stats"
   ]
  },
  {
   "cell_type": "code",
   "execution_count": 3,
   "metadata": {},
   "outputs": [
    {
     "name": "stderr",
     "output_type": "stream",
     "text": [
      "/tmp/ipykernel_18157/1261178939.py:1: DtypeWarning: Columns (4,69) have mixed types. Specify dtype option on import or set low_memory=False.\n",
      "  deliveries= pd.read_csv('../data/parsed/deliveries.csv')\n"
     ]
    }
   ],
   "source": [
    "deliveries= pd.read_csv('../data/parsed/deliveries.csv')"
   ]
  },
  {
   "cell_type": "code",
   "execution_count": 4,
   "metadata": {},
   "outputs": [
    {
     "name": "stdout",
     "output_type": "stream",
     "text": [
      "['creation_dt', 'pickup_dt', 'max_pickup_dt', 'pickup_arrival_dt', 'pickup_effective_dt', 'delivery_dt', 'max_delivery_dt', 'delivery_arrival_dt', 'delivery_effective_dt', 'due_dt', 'pickup_due_dt', 'delivery_due_dt', 'status_update_dt']\n"
     ]
    }
   ],
   "source": [
    "cols=[]\n",
    "for i in deliveries.columns:\n",
    "    if i.endswith('dt'):\n",
    "        cols.append(i)\n",
    "print(cols)"
   ]
  },
  {
   "cell_type": "code",
   "execution_count": 5,
   "metadata": {},
   "outputs": [],
   "source": [
    "routes_ids_completed=deliveries.route_id[deliveries._status.str.contains('completed')].unique()"
   ]
  },
  {
   "cell_type": "code",
   "execution_count": 6,
   "metadata": {},
   "outputs": [],
   "source": [
    "routes_totally_complete=[]\n",
    "for i in routes_ids_completed:\n",
    "    routes_status=deliveries._status[deliveries.route_id==i].unique()\n",
    "    if routes_status.size==1 and routes_status[0]=='completed':\n",
    "        routes_totally_complete.append(i)\n",
    "\n"
   ]
  },
  {
   "cell_type": "code",
   "execution_count": 7,
   "metadata": {},
   "outputs": [],
   "source": [
    "     =deliveries[deliveries.route_id.isin( routes_totally_complete)]"
   ]
  },
  {
   "cell_type": "code",
   "execution_count": 8,
   "metadata": {},
   "outputs": [
    {
     "name": "stdout",
     "output_type": "stream",
     "text": [
      "pickup_effective_dt\n",
      "year 0 is out of range: 0000-00-00 00:00:00\n"
     ]
    },
    {
     "name": "stderr",
     "output_type": "stream",
     "text": [
      "/tmp/ipykernel_18157/325788847.py:13: SettingWithCopyWarning: \n",
      "A value is trying to be set on a copy of a slice from a DataFrame.\n",
      "Try using .loc[row_indexer,col_indexer] = value instead\n",
      "\n",
      "See the caveats in the documentation: https://pandas.pydata.org/pandas-docs/stable/user_guide/indexing.html#returning-a-view-versus-a-copy\n",
      "  deliveries_completed[i]=pd.to_datetime(deliveries[i]).dt.tz_localize('UTC').dt.tz_convert('America/Fortaleza')\n",
      "/tmp/ipykernel_18157/325788847.py:13: SettingWithCopyWarning: \n",
      "A value is trying to be set on a copy of a slice from a DataFrame.\n",
      "Try using .loc[row_indexer,col_indexer] = value instead\n",
      "\n",
      "See the caveats in the documentation: https://pandas.pydata.org/pandas-docs/stable/user_guide/indexing.html#returning-a-view-versus-a-copy\n",
      "  deliveries_completed[i]=pd.to_datetime(deliveries[i]).dt.tz_localize('UTC').dt.tz_convert('America/Fortaleza')\n",
      "/tmp/ipykernel_18157/325788847.py:13: SettingWithCopyWarning: \n",
      "A value is trying to be set on a copy of a slice from a DataFrame.\n",
      "Try using .loc[row_indexer,col_indexer] = value instead\n",
      "\n",
      "See the caveats in the documentation: https://pandas.pydata.org/pandas-docs/stable/user_guide/indexing.html#returning-a-view-versus-a-copy\n",
      "  deliveries_completed[i]=pd.to_datetime(deliveries[i]).dt.tz_localize('UTC').dt.tz_convert('America/Fortaleza')\n"
     ]
    }
   ],
   "source": [
    "columns_to_change=[\n",
    "    'pickup_dt',\n",
    "    'max_pickup_dt',\n",
    "    'pickup_arrival_dt',\n",
    "    'pickup_effective_dt',\n",
    "    'delivery_dt',\n",
    "    'max_delivery_dt',\n",
    "    'delivery_arrival_dt',\n",
    "    'delivery_effective_dt'\n",
    "]\n",
    "for i in columns_to_change:\n",
    "    try:\n",
    "        deliveries_completed[i]=pd.to_datetime(deliveries[i]).dt.tz_localize('UTC').dt.tz_convert('America/Fortaleza')\n",
    "    except Exception as e :\n",
    "        print(i)\n",
    "        print(e)\n",
    "        break"
   ]
  },
  {
   "cell_type": "code",
   "execution_count": 62,
   "metadata": {},
   "outputs": [],
   "source": [
    "deliveries_completed.to_pickle('../data/objects/deliveries_completed.pickle')"
   ]
  },
  {
   "cell_type": "code",
   "execution_count": null,
   "metadata": {},
   "outputs": [],
   "source": []
  }
 ],
 "metadata": {
  "kernelspec": {
   "display_name": "Python 3.8.10 64-bit",
   "language": "python",
   "name": "python3"
  },
  "language_info": {
   "codemirror_mode": {
    "name": "ipython",
    "version": 3
   },
   "file_extension": ".py",
   "mimetype": "text/x-python",
   "name": "python",
   "nbconvert_exporter": "python",
   "pygments_lexer": "ipython3",
   "version": "3.8.10"
  },
  "orig_nbformat": 4,
  "vscode": {
   "interpreter": {
    "hash": "916dbcbb3f70747c44a77c7bcd40155683ae19c65e1c03b4aa3499c5328201f1"
   }
  }
 },
 "nbformat": 4,
 "nbformat_minor": 2
}
