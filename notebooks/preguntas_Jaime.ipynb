{
 "cells": [
  {
   "cell_type": "code",
   "execution_count": 1,
   "metadata": {},
   "outputs": [],
   "source": [
    "import pandas as pd\n",
    "import numpy as np\n",
    "import matplotlib.pyplot as plt\n",
    "import seaborn as sns\n",
    "from scipy import stats\n"
   ]
  },
  {
   "cell_type": "code",
   "execution_count": 3,
   "metadata": {},
   "outputs": [],
   "source": [
    "deliveries = pd.read_csv('../data/clean/deliveries.csv')"
   ]
  },
  {
   "cell_type": "code",
   "execution_count": 4,
   "metadata": {},
   "outputs": [],
   "source": [
    "routes_df = pd.read_csv('../data/clean/routes.csv')"
   ]
  },
  {
   "cell_type": "code",
   "execution_count": 5,
   "metadata": {},
   "outputs": [],
   "source": [
    "date_fields = [\n",
    "  \"pickup_dt\", \"max_pickup_dt\", \"pickup_arrival_dt\", \"pickup_effective_dt\", \n",
    "  \"delivery_dt\", \"max_delivery_dt\", \"delivery_arrival_dt\", \"delivery_effective_dt\"\n",
    "]\n",
    "for field in date_fields:\n",
    "  deliveries[field] = pd.to_datetime(deliveries[field])"
   ]
  },
  {
   "cell_type": "code",
   "execution_count": 6,
   "metadata": {},
   "outputs": [],
   "source": [
    "deliveries[\"retraso_delivery\"] = (deliveries[\"delivery_effective_dt\"] - deliveries[\"max_delivery_dt\"]).dt.total_seconds() / 3600\n",
    "deliveries[\"retraso_pickup\"] = (deliveries[\"pickup_effective_dt\"] - deliveries[\"max_pickup_dt\"]).dt.total_seconds() / 3600\n",
    "deliveries[\"is_delayed_delivery\"] = deliveries[\"retraso_delivery\"] > 0\n",
    "deliveries[\"is_delayed_pickup\"] = deliveries[\"retraso_pickup\"] > 0"
   ]
  },
  {
   "cell_type": "code",
   "execution_count": 7,
   "metadata": {},
   "outputs": [
    {
     "data": {
      "text/html": [
       "<div>\n",
       "<style scoped>\n",
       "    .dataframe tbody tr th:only-of-type {\n",
       "        vertical-align: middle;\n",
       "    }\n",
       "\n",
       "    .dataframe tbody tr th {\n",
       "        vertical-align: top;\n",
       "    }\n",
       "\n",
       "    .dataframe thead th {\n",
       "        text-align: right;\n",
       "    }\n",
       "</style>\n",
       "<table border=\"1\" class=\"dataframe\">\n",
       "  <thead>\n",
       "    <tr style=\"text-align: right;\">\n",
       "      <th></th>\n",
       "      <th>id</th>\n",
       "      <th>route_id</th>\n",
       "      <th>state</th>\n",
       "      <th>_status</th>\n",
       "      <th>items</th>\n",
       "      <th>total_size</th>\n",
       "      <th>pickupLat</th>\n",
       "      <th>pickupLng</th>\n",
       "      <th>deliveryLat</th>\n",
       "      <th>deliveryLng</th>\n",
       "      <th>...</th>\n",
       "      <th>shipper_id</th>\n",
       "      <th>distance_charged</th>\n",
       "      <th>distance_route</th>\n",
       "      <th>total_package_price</th>\n",
       "      <th>vehicle_capacity</th>\n",
       "      <th>retraso_delivery</th>\n",
       "      <th>retraso_pickup</th>\n",
       "      <th>is_delayed_delivery</th>\n",
       "      <th>is_delayed_pickup</th>\n",
       "      <th>route_capacity</th>\n",
       "    </tr>\n",
       "  </thead>\n",
       "  <tbody>\n",
       "    <tr>\n",
       "      <th>0</th>\n",
       "      <td>t-amabrt-1743660</td>\n",
       "      <td>r-shiinc-1248026</td>\n",
       "      <td>7</td>\n",
       "      <td>completed</td>\n",
       "      <td>[{'id':'SFYBR004818881','qty':1,'name':'CAIXA'...</td>\n",
       "      <td>2</td>\n",
       "      <td>-19.9618</td>\n",
       "      <td>-44.0285</td>\n",
       "      <td>-19.4522</td>\n",
       "      <td>-44.2543</td>\n",
       "      <td>...</td>\n",
       "      <td>247379.0</td>\n",
       "      <td>0.3</td>\n",
       "      <td>0.3</td>\n",
       "      <td>19.72</td>\n",
       "      <td>2.0</td>\n",
       "      <td>0.172778</td>\n",
       "      <td>-0.375833</td>\n",
       "      <td>True</td>\n",
       "      <td>False</td>\n",
       "      <td>3</td>\n",
       "    </tr>\n",
       "    <tr>\n",
       "      <th>1</th>\n",
       "      <td>t-amabrt-1743667</td>\n",
       "      <td>r-shiinc-1248026</td>\n",
       "      <td>7</td>\n",
       "      <td>completed</td>\n",
       "      <td>[{'id':'SFYBR004810225','qty':1,'name':'CAIXA'...</td>\n",
       "      <td>2</td>\n",
       "      <td>-19.9618</td>\n",
       "      <td>-44.0285</td>\n",
       "      <td>-19.4372</td>\n",
       "      <td>-44.2292</td>\n",
       "      <td>...</td>\n",
       "      <td>247379.0</td>\n",
       "      <td>0.6</td>\n",
       "      <td>0.6</td>\n",
       "      <td>39.90</td>\n",
       "      <td>2.0</td>\n",
       "      <td>-7.935556</td>\n",
       "      <td>-0.375833</td>\n",
       "      <td>False</td>\n",
       "      <td>False</td>\n",
       "      <td>3</td>\n",
       "    </tr>\n",
       "    <tr>\n",
       "      <th>2</th>\n",
       "      <td>t-amabrt-1743673</td>\n",
       "      <td>r-shiinc-1248026</td>\n",
       "      <td>7</td>\n",
       "      <td>completed</td>\n",
       "      <td>[{'id':'SFYBR004807779','qty':1,'name':'CAIXA'...</td>\n",
       "      <td>2</td>\n",
       "      <td>-19.9618</td>\n",
       "      <td>-44.0285</td>\n",
       "      <td>-19.4381</td>\n",
       "      <td>-44.2479</td>\n",
       "      <td>...</td>\n",
       "      <td>247379.0</td>\n",
       "      <td>0.7</td>\n",
       "      <td>0.7</td>\n",
       "      <td>30.23</td>\n",
       "      <td>2.0</td>\n",
       "      <td>-5.369444</td>\n",
       "      <td>-0.375833</td>\n",
       "      <td>False</td>\n",
       "      <td>False</td>\n",
       "      <td>3</td>\n",
       "    </tr>\n",
       "    <tr>\n",
       "      <th>3</th>\n",
       "      <td>t-amabrt-1743742</td>\n",
       "      <td>r-shiinc-1248026</td>\n",
       "      <td>7</td>\n",
       "      <td>completed</td>\n",
       "      <td>[{'id':'SFYBR004819106','qty':1,'name':'CAIXA'...</td>\n",
       "      <td>2</td>\n",
       "      <td>-19.9618</td>\n",
       "      <td>-44.0285</td>\n",
       "      <td>-19.4258</td>\n",
       "      <td>-44.2426</td>\n",
       "      <td>...</td>\n",
       "      <td>247379.0</td>\n",
       "      <td>0.6</td>\n",
       "      <td>0.6</td>\n",
       "      <td>41.44</td>\n",
       "      <td>2.0</td>\n",
       "      <td>-13.520556</td>\n",
       "      <td>-0.375833</td>\n",
       "      <td>False</td>\n",
       "      <td>False</td>\n",
       "      <td>3</td>\n",
       "    </tr>\n",
       "    <tr>\n",
       "      <th>4</th>\n",
       "      <td>t-amabrt-1743835</td>\n",
       "      <td>r-shiinc-1248026</td>\n",
       "      <td>7</td>\n",
       "      <td>completed</td>\n",
       "      <td>[{'id':'SFYBR004811623','qty':1,'name':'CAIXA'...</td>\n",
       "      <td>2</td>\n",
       "      <td>-19.9618</td>\n",
       "      <td>-44.0285</td>\n",
       "      <td>-19.4434</td>\n",
       "      <td>-44.2558</td>\n",
       "      <td>...</td>\n",
       "      <td>247379.0</td>\n",
       "      <td>0.3</td>\n",
       "      <td>0.3</td>\n",
       "      <td>84.79</td>\n",
       "      <td>2.0</td>\n",
       "      <td>-3.652500</td>\n",
       "      <td>-0.375833</td>\n",
       "      <td>False</td>\n",
       "      <td>False</td>\n",
       "      <td>3</td>\n",
       "    </tr>\n",
       "  </tbody>\n",
       "</table>\n",
       "<p>5 rows × 31 columns</p>\n",
       "</div>"
      ],
      "text/plain": [
       "                 id          route_id  state    _status  \\\n",
       "0  t-amabrt-1743660  r-shiinc-1248026      7  completed   \n",
       "1  t-amabrt-1743667  r-shiinc-1248026      7  completed   \n",
       "2  t-amabrt-1743673  r-shiinc-1248026      7  completed   \n",
       "3  t-amabrt-1743742  r-shiinc-1248026      7  completed   \n",
       "4  t-amabrt-1743835  r-shiinc-1248026      7  completed   \n",
       "\n",
       "                                               items  total_size  pickupLat  \\\n",
       "0  [{'id':'SFYBR004818881','qty':1,'name':'CAIXA'...           2   -19.9618   \n",
       "1  [{'id':'SFYBR004810225','qty':1,'name':'CAIXA'...           2   -19.9618   \n",
       "2  [{'id':'SFYBR004807779','qty':1,'name':'CAIXA'...           2   -19.9618   \n",
       "3  [{'id':'SFYBR004819106','qty':1,'name':'CAIXA'...           2   -19.9618   \n",
       "4  [{'id':'SFYBR004811623','qty':1,'name':'CAIXA'...           2   -19.9618   \n",
       "\n",
       "   pickupLng  deliveryLat  deliveryLng  ... shipper_id distance_charged  \\\n",
       "0   -44.0285     -19.4522     -44.2543  ...   247379.0              0.3   \n",
       "1   -44.0285     -19.4372     -44.2292  ...   247379.0              0.6   \n",
       "2   -44.0285     -19.4381     -44.2479  ...   247379.0              0.7   \n",
       "3   -44.0285     -19.4258     -44.2426  ...   247379.0              0.6   \n",
       "4   -44.0285     -19.4434     -44.2558  ...   247379.0              0.3   \n",
       "\n",
       "  distance_route total_package_price vehicle_capacity retraso_delivery  \\\n",
       "0            0.3               19.72              2.0         0.172778   \n",
       "1            0.6               39.90              2.0        -7.935556   \n",
       "2            0.7               30.23              2.0        -5.369444   \n",
       "3            0.6               41.44              2.0       -13.520556   \n",
       "4            0.3               84.79              2.0        -3.652500   \n",
       "\n",
       "  retraso_pickup is_delayed_delivery  is_delayed_pickup  route_capacity  \n",
       "0      -0.375833                True              False               3  \n",
       "1      -0.375833               False              False               3  \n",
       "2      -0.375833               False              False               3  \n",
       "3      -0.375833               False              False               3  \n",
       "4      -0.375833               False              False               3  \n",
       "\n",
       "[5 rows x 31 columns]"
      ]
     },
     "execution_count": 7,
     "metadata": {},
     "output_type": "execute_result"
    }
   ],
   "source": [
    "df_m = deliveries.merge(routes_df, on=\"route_id\")\n",
    "df_m.head()"
   ]
  },
  {
   "cell_type": "code",
   "execution_count": 8,
   "metadata": {},
   "outputs": [
    {
     "data": {
      "text/html": [
       "<div>\n",
       "<style scoped>\n",
       "    .dataframe tbody tr th:only-of-type {\n",
       "        vertical-align: middle;\n",
       "    }\n",
       "\n",
       "    .dataframe tbody tr th {\n",
       "        vertical-align: top;\n",
       "    }\n",
       "\n",
       "    .dataframe thead th {\n",
       "        text-align: right;\n",
       "    }\n",
       "</style>\n",
       "<table border=\"1\" class=\"dataframe\">\n",
       "  <thead>\n",
       "    <tr style=\"text-align: right;\">\n",
       "      <th></th>\n",
       "      <th>shipper_id</th>\n",
       "      <th>expertise</th>\n",
       "    </tr>\n",
       "  </thead>\n",
       "  <tbody>\n",
       "    <tr>\n",
       "      <th>0</th>\n",
       "      <td>238.0</td>\n",
       "      <td>21</td>\n",
       "    </tr>\n",
       "    <tr>\n",
       "      <th>1</th>\n",
       "      <td>984.0</td>\n",
       "      <td>33</td>\n",
       "    </tr>\n",
       "    <tr>\n",
       "      <th>2</th>\n",
       "      <td>3134.0</td>\n",
       "      <td>2</td>\n",
       "    </tr>\n",
       "    <tr>\n",
       "      <th>3</th>\n",
       "      <td>6995.0</td>\n",
       "      <td>1</td>\n",
       "    </tr>\n",
       "    <tr>\n",
       "      <th>4</th>\n",
       "      <td>11277.0</td>\n",
       "      <td>1</td>\n",
       "    </tr>\n",
       "    <tr>\n",
       "      <th>...</th>\n",
       "      <td>...</td>\n",
       "      <td>...</td>\n",
       "    </tr>\n",
       "    <tr>\n",
       "      <th>397</th>\n",
       "      <td>402581.0</td>\n",
       "      <td>1</td>\n",
       "    </tr>\n",
       "    <tr>\n",
       "      <th>398</th>\n",
       "      <td>402635.0</td>\n",
       "      <td>2</td>\n",
       "    </tr>\n",
       "    <tr>\n",
       "      <th>399</th>\n",
       "      <td>402949.0</td>\n",
       "      <td>2</td>\n",
       "    </tr>\n",
       "    <tr>\n",
       "      <th>400</th>\n",
       "      <td>403140.0</td>\n",
       "      <td>1</td>\n",
       "    </tr>\n",
       "    <tr>\n",
       "      <th>401</th>\n",
       "      <td>404696.0</td>\n",
       "      <td>1</td>\n",
       "    </tr>\n",
       "  </tbody>\n",
       "</table>\n",
       "<p>402 rows × 2 columns</p>\n",
       "</div>"
      ],
      "text/plain": [
       "     shipper_id  expertise\n",
       "0         238.0         21\n",
       "1         984.0         33\n",
       "2        3134.0          2\n",
       "3        6995.0          1\n",
       "4       11277.0          1\n",
       "..          ...        ...\n",
       "397    402581.0          1\n",
       "398    402635.0          2\n",
       "399    402949.0          2\n",
       "400    403140.0          1\n",
       "401    404696.0          1\n",
       "\n",
       "[402 rows x 2 columns]"
      ]
     },
     "execution_count": 8,
     "metadata": {},
     "output_type": "execute_result"
    }
   ],
   "source": [
    "#x = experiencia\n",
    "#y = retraso\n",
    "\n",
    "df_shippers = df_m.groupby(\"shipper_id\").agg({\"route_id\":\"nunique\"}).reset_index()\n",
    "df_shippers.columns= [\"shipper_id\", \"expertise\"]\n",
    "df_shippers"
   ]
  },
  {
   "cell_type": "code",
   "execution_count": 9,
   "metadata": {},
   "outputs": [
    {
     "data": {
      "text/html": [
       "<div>\n",
       "<style scoped>\n",
       "    .dataframe tbody tr th:only-of-type {\n",
       "        vertical-align: middle;\n",
       "    }\n",
       "\n",
       "    .dataframe tbody tr th {\n",
       "        vertical-align: top;\n",
       "    }\n",
       "\n",
       "    .dataframe thead th {\n",
       "        text-align: right;\n",
       "    }\n",
       "</style>\n",
       "<table border=\"1\" class=\"dataframe\">\n",
       "  <thead>\n",
       "    <tr style=\"text-align: right;\">\n",
       "      <th></th>\n",
       "      <th>shipper_id</th>\n",
       "      <th>is_delayed_delivery</th>\n",
       "      <th>id</th>\n",
       "      <th>percentage</th>\n",
       "    </tr>\n",
       "  </thead>\n",
       "  <tbody>\n",
       "    <tr>\n",
       "      <th>0</th>\n",
       "      <td>238.0</td>\n",
       "      <td>29</td>\n",
       "      <td>451</td>\n",
       "      <td>6.430155</td>\n",
       "    </tr>\n",
       "    <tr>\n",
       "      <th>1</th>\n",
       "      <td>984.0</td>\n",
       "      <td>102</td>\n",
       "      <td>265</td>\n",
       "      <td>38.490566</td>\n",
       "    </tr>\n",
       "    <tr>\n",
       "      <th>2</th>\n",
       "      <td>3134.0</td>\n",
       "      <td>0</td>\n",
       "      <td>38</td>\n",
       "      <td>0.000000</td>\n",
       "    </tr>\n",
       "    <tr>\n",
       "      <th>3</th>\n",
       "      <td>6995.0</td>\n",
       "      <td>15</td>\n",
       "      <td>35</td>\n",
       "      <td>42.857143</td>\n",
       "    </tr>\n",
       "    <tr>\n",
       "      <th>4</th>\n",
       "      <td>11277.0</td>\n",
       "      <td>0</td>\n",
       "      <td>43</td>\n",
       "      <td>0.000000</td>\n",
       "    </tr>\n",
       "  </tbody>\n",
       "</table>\n",
       "</div>"
      ],
      "text/plain": [
       "   shipper_id  is_delayed_delivery   id  percentage\n",
       "0       238.0                   29  451    6.430155\n",
       "1       984.0                  102  265   38.490566\n",
       "2      3134.0                    0   38    0.000000\n",
       "3      6995.0                   15   35   42.857143\n",
       "4     11277.0                    0   43    0.000000"
      ]
     },
     "execution_count": 9,
     "metadata": {},
     "output_type": "execute_result"
    }
   ],
   "source": [
    "df_retr_ship = deliveries.groupby([\"shipper_id\"]).agg({\"is_delayed_delivery\":np.sum, \"id\":\"count\"}).reset_index()\n",
    "df_retr_ship[\"percentage\"] = (df_retr_ship[\"is_delayed_delivery\"] / df_retr_ship[\"id\"])*100\n",
    "df_retr_ship.head()"
   ]
  },
  {
   "cell_type": "code",
   "execution_count": 10,
   "metadata": {},
   "outputs": [
    {
     "data": {
      "text/html": [
       "<div>\n",
       "<style scoped>\n",
       "    .dataframe tbody tr th:only-of-type {\n",
       "        vertical-align: middle;\n",
       "    }\n",
       "\n",
       "    .dataframe tbody tr th {\n",
       "        vertical-align: top;\n",
       "    }\n",
       "\n",
       "    .dataframe thead th {\n",
       "        text-align: right;\n",
       "    }\n",
       "</style>\n",
       "<table border=\"1\" class=\"dataframe\">\n",
       "  <thead>\n",
       "    <tr style=\"text-align: right;\">\n",
       "      <th></th>\n",
       "      <th>shipper_id</th>\n",
       "      <th>expertise</th>\n",
       "      <th>is_delayed_delivery</th>\n",
       "      <th>id</th>\n",
       "      <th>percentage</th>\n",
       "    </tr>\n",
       "  </thead>\n",
       "  <tbody>\n",
       "    <tr>\n",
       "      <th>0</th>\n",
       "      <td>238.0</td>\n",
       "      <td>21</td>\n",
       "      <td>29</td>\n",
       "      <td>451</td>\n",
       "      <td>6.430155</td>\n",
       "    </tr>\n",
       "    <tr>\n",
       "      <th>1</th>\n",
       "      <td>984.0</td>\n",
       "      <td>33</td>\n",
       "      <td>102</td>\n",
       "      <td>265</td>\n",
       "      <td>38.490566</td>\n",
       "    </tr>\n",
       "    <tr>\n",
       "      <th>2</th>\n",
       "      <td>3134.0</td>\n",
       "      <td>2</td>\n",
       "      <td>0</td>\n",
       "      <td>38</td>\n",
       "      <td>0.000000</td>\n",
       "    </tr>\n",
       "    <tr>\n",
       "      <th>3</th>\n",
       "      <td>6995.0</td>\n",
       "      <td>1</td>\n",
       "      <td>15</td>\n",
       "      <td>35</td>\n",
       "      <td>42.857143</td>\n",
       "    </tr>\n",
       "    <tr>\n",
       "      <th>4</th>\n",
       "      <td>11277.0</td>\n",
       "      <td>1</td>\n",
       "      <td>0</td>\n",
       "      <td>43</td>\n",
       "      <td>0.000000</td>\n",
       "    </tr>\n",
       "  </tbody>\n",
       "</table>\n",
       "</div>"
      ],
      "text/plain": [
       "   shipper_id  expertise  is_delayed_delivery   id  percentage\n",
       "0       238.0         21                   29  451    6.430155\n",
       "1       984.0         33                  102  265   38.490566\n",
       "2      3134.0          2                    0   38    0.000000\n",
       "3      6995.0          1                   15   35   42.857143\n",
       "4     11277.0          1                    0   43    0.000000"
      ]
     },
     "execution_count": 10,
     "metadata": {},
     "output_type": "execute_result"
    }
   ],
   "source": [
    "dfm_shippers = df_shippers.merge(df_retr_ship, on=\"shipper_id\")\n",
    "dfm_shippers.head()"
   ]
  },
  {
   "cell_type": "code",
   "execution_count": 23,
   "metadata": {},
   "outputs": [
    {
     "data": {
      "image/png": "[encoded data removed]",
      "text/plain": [
       "<Figure size 1008x576 with 1 Axes>"
      ]
     },
     "metadata": {},
     "output_type": "display_data"
    }
   ],
   "source": [
    "_ = sns.set_style(\"darkgrid\")\n",
    "ax, fig = plt.subplots(figsize=(14,8))\n",
    "_ = sns.scatterplot(x=\"expertise\", y=\"percentage\", data=dfm_shippers, color=\"#3f908e\")\n",
    "_ = plt.title(\"Retraso de entrega por nivel de experiencia de los Shippers\")"
   ]
  },
  {
   "cell_type": "code",
   "execution_count": 12,
   "metadata": {},
   "outputs": [
    {
     "data": {
      "text/plain": [
       "-0.020305875492695483"
      ]
     },
     "execution_count": 12,
     "metadata": {},
     "output_type": "execute_result"
    }
   ],
   "source": [
    "dfm_shippers[\"expertise\"].corr(dfm_shippers[\"percentage\"])"
   ]
  },
  {
   "cell_type": "code",
   "execution_count": null,
   "metadata": {},
   "outputs": [],
   "source": []
  },
  {
   "cell_type": "code",
   "execution_count": 13,
   "metadata": {},
   "outputs": [],
   "source": [
    "def delays_by_day_fn(dt_field, is_delayed_field, deliveries):\n",
    "    delays_by_day = deliveries.groupby(deliveries[dt_field].dt.day_of_week).agg({is_delayed_field:np.sum,\"id\":\"count\"}).reset_index()\n",
    "    delays_by_day[\"percentage\"] = (delays_by_day[is_delayed_field] / delays_by_day[\"id\"])*100\n",
    "    delays_by_day.columns = [\"day\",\"delayed_count\",\"total_count\",\"percentage\"]\n",
    "    delays_by_day[\"day\"] = delays_by_day[\"day\"].map({0:\"Monday\",1:\"Tuesday\",2:\"Wednesday\",3:\"Thursday\",4:\"Friday\",5:\"Saturday\",6:\"Sunday\"})\n",
    "    return delays_by_day"
   ]
  },
  {
   "cell_type": "code",
   "execution_count": 26,
   "metadata": {},
   "outputs": [],
   "source": [
    "def graph_barplot(df, x_label, title):\n",
    "    df.sort_values(by=\"percentage\", inplace=True, ascending=False)\n",
    "    ax, fig = plt.subplots(figsize=(10,7))\n",
    "    _ = sns.set_style(\"darkgrid\")\n",
    "    _ = sns.barplot(data=df, x=\"percentage\", y=\"day\", palette=\"crest\")\n",
    "    _ = plt.xlabel(x_label)\n",
    "    _ = plt.title(title)"
   ]
  },
  {
   "cell_type": "code",
   "execution_count": 15,
   "metadata": {},
   "outputs": [
    {
     "name": "stdout",
     "output_type": "stream",
     "text": [
      "         day  delayed_count  total_count  percentage\n",
      "0     Monday           2875        20188   14.241133\n",
      "1    Tuesday           3215        17306   18.577372\n",
      "2  Wednesday           3375        16908   19.960965\n",
      "3   Thursday           5240        13111   39.966440\n",
      "4     Friday           2326        13007   17.882679\n",
      "5   Saturday            881         7305   12.060233\n",
      "6     Sunday           1107         2329   47.531129\n"
     ]
    }
   ],
   "source": [
    "deliv_delays_by_day = delays_by_day_fn(\"delivery_effective_dt\",\"is_delayed_delivery\",deliveries)\n",
    "pickup_delays_by_day = delays_by_day_fn(\"pickup_effective_dt\",\"is_delayed_pickup\",deliveries)\n",
    "print(pickup_delays_by_day)"
   ]
  },
  {
   "cell_type": "code",
   "execution_count": 27,
   "metadata": {},
   "outputs": [
    {
     "data": {
      "image/png": "[encoded data removed]",
      "text/plain": [
       "<Figure size 720x504 with 1 Axes>"
      ]
     },
     "metadata": {},
     "output_type": "display_data"
    },
    {
     "data": {
      "image/png": "[encoded data removed]",
      "text/plain": [
       "<Figure size 720x504 with 1 Axes>"
      ]
     },
     "metadata": {},
     "output_type": "display_data"
    }
   ],
   "source": [
    "graph_barplot(deliv_delays_by_day, \"% delivery delay\", \"Delivery delay percentage by day\")\n",
    "graph_barplot(pickup_delays_by_day, \"% pickup delay\", \"Pickup delay percentage by day\")"
   ]
  },
  {
   "cell_type": "code",
   "execution_count": null,
   "metadata": {},
   "outputs": [],
   "source": []
  }
 ],
 "metadata": {
  "kernelspec": {
   "display_name": "Python 3.8.8 ('base')",
   "language": "python",
   "name": "python3"
  },
  "language_info": {
   "codemirror_mode": {
    "name": "ipython",
    "version": 3
   },
   "file_extension": ".py",
   "mimetype": "text/x-python",
   "name": "python",
   "nbconvert_exporter": "python",
   "pygments_lexer": "ipython3",
   "version": "3.8.8"
  },
  "orig_nbformat": 4,
  "vscode": {
   "interpreter": {
    "hash": "08cef8ada5c9c12ac0db24b5451d97d38f11553a57a3bceefbdb78f0de7e3e14"
   }
  }
 },
 "nbformat": 4,
 "nbformat_minor": 2
}
