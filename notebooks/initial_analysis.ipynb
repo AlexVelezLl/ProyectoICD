{
 "cells": [
  {
   "cell_type": "code",
   "execution_count": 15,
   "metadata": {},
   "outputs": [],
   "source": [
    "import pandas as pd"
   ]
  },
  {
   "cell_type": "code",
   "execution_count": 16,
   "metadata": {},
   "outputs": [],
   "source": [
    "deliveries=pd.read_csv('../data/parsed/deliveries.csv',low_memory=False)\n",
    "events=pd.read_csv('../data/parsed/events.csv',low_memory=False)"
   ]
  },
  {
   "cell_type": "code",
   "execution_count": 20,
   "metadata": {},
   "outputs": [
    {
     "data": {
      "text/plain": [
       "id                        object\n",
       "route_id                  object\n",
       "state                      int64\n",
       "_status                   object\n",
       "return_id                 object\n",
       "                          ...   \n",
       "delivery_service_time    float64\n",
       "vehicle_id               float64\n",
       "partial                  float64\n",
       "status_update_dt          object\n",
       "last_table_update         object\n",
       "Length: 76, dtype: object"
      ]
     },
     "execution_count": 20,
     "metadata": {},
     "output_type": "execute_result"
    }
   ],
   "source": [
    "deliveries.dtypes"
   ]
  },
  {
   "cell_type": "code",
   "execution_count": 36,
   "metadata": {},
   "outputs": [
    {
     "data": {
      "text/html": [
       "<div>\n",
       "<style scoped>\n",
       "    .dataframe tbody tr th:only-of-type {\n",
       "        vertical-align: middle;\n",
       "    }\n",
       "\n",
       "    .dataframe tbody tr th {\n",
       "        vertical-align: top;\n",
       "    }\n",
       "\n",
       "    .dataframe thead th {\n",
       "        text-align: right;\n",
       "    }\n",
       "</style>\n",
       "<table border=\"1\" class=\"dataframe\">\n",
       "  <thead>\n",
       "    <tr style=\"text-align: right;\">\n",
       "      <th></th>\n",
       "      <th>id</th>\n",
       "      <th>name</th>\n",
       "      <th>author</th>\n",
       "      <th>params</th>\n",
       "      <th>type</th>\n",
       "      <th>level</th>\n",
       "      <th>state</th>\n",
       "      <th>delivery_state</th>\n",
       "    </tr>\n",
       "  </thead>\n",
       "  <tbody>\n",
       "    <tr>\n",
       "      <th>0</th>\n",
       "      <td>277801397</td>\n",
       "      <td>Delivery t-amabrt-1743660 changed to status 1:...</td>\n",
       "      <td>NaN</td>\n",
       "      <td>{'companyId':6082,'pickupDate':'2022-05-01 21:...</td>\n",
       "      <td>DELIVERY_STATUS_UPDATE</td>\n",
       "      <td>low</td>\n",
       "      <td>closed</td>\n",
       "      <td>1.0</td>\n",
       "    </tr>\n",
       "    <tr>\n",
       "      <th>1</th>\n",
       "      <td>277941703</td>\n",
       "      <td>Tag added</td>\n",
       "      <td>{'type':'operator','id':12068,'name':'Otto de ...</td>\n",
       "      <td>{'id':196226,'name':'RT - 01.05.22','color':'#...</td>\n",
       "      <td>TAG</td>\n",
       "      <td>high</td>\n",
       "      <td>closed</td>\n",
       "      <td>1.0</td>\n",
       "    </tr>\n",
       "    <tr>\n",
       "      <th>2</th>\n",
       "      <td>277964506</td>\n",
       "      <td>Delivery t-amabrt-1743660 changed to status 1:...</td>\n",
       "      <td>{'type':'operator','id':12060,'name':'Dayse Re...</td>\n",
       "      <td>{'companyId':6082}</td>\n",
       "      <td>ADDRESS-EDITED</td>\n",
       "      <td>low</td>\n",
       "      <td>closed</td>\n",
       "      <td>1.0</td>\n",
       "    </tr>\n",
       "    <tr>\n",
       "      <th>3</th>\n",
       "      <td>277977064</td>\n",
       "      <td>FIX TIME</td>\n",
       "      <td>{'type':'operator','id':12060,'name':'Dayse Re...</td>\n",
       "      <td>{'companyId':6082}</td>\n",
       "      <td>FIX_TIME</td>\n",
       "      <td>low</td>\n",
       "      <td>closed</td>\n",
       "      <td>1.0</td>\n",
       "    </tr>\n",
       "    <tr>\n",
       "      <th>4</th>\n",
       "      <td>277977999</td>\n",
       "      <td>Delivery t-amabrt-1743660 changed to status 1:...</td>\n",
       "      <td>{'type':'operator','id':12060,'name':'Dayse Re...</td>\n",
       "      <td>{'companyId':6082}</td>\n",
       "      <td>DELIVERY_RESCHEDULED</td>\n",
       "      <td>low</td>\n",
       "      <td>closed</td>\n",
       "      <td>1.0</td>\n",
       "    </tr>\n",
       "  </tbody>\n",
       "</table>\n",
       "</div>"
      ],
      "text/plain": [
       "          id                                               name  \\\n",
       "0  277801397  Delivery t-amabrt-1743660 changed to status 1:...   \n",
       "1  277941703                                          Tag added   \n",
       "2  277964506  Delivery t-amabrt-1743660 changed to status 1:...   \n",
       "3  277977064                                           FIX TIME   \n",
       "4  277977999  Delivery t-amabrt-1743660 changed to status 1:...   \n",
       "\n",
       "                                              author  \\\n",
       "0                                                NaN   \n",
       "1  {'type':'operator','id':12068,'name':'Otto de ...   \n",
       "2  {'type':'operator','id':12060,'name':'Dayse Re...   \n",
       "3  {'type':'operator','id':12060,'name':'Dayse Re...   \n",
       "4  {'type':'operator','id':12060,'name':'Dayse Re...   \n",
       "\n",
       "                                              params                    type  \\\n",
       "0  {'companyId':6082,'pickupDate':'2022-05-01 21:...  DELIVERY_STATUS_UPDATE   \n",
       "1  {'id':196226,'name':'RT - 01.05.22','color':'#...                     TAG   \n",
       "2                                 {'companyId':6082}          ADDRESS-EDITED   \n",
       "3                                 {'companyId':6082}                FIX_TIME   \n",
       "4                                 {'companyId':6082}    DELIVERY_RESCHEDULED   \n",
       "\n",
       "  level   state  delivery_state  \n",
       "0   low  closed             1.0  \n",
       "1  high  closed             1.0  \n",
       "2   low  closed             1.0  \n",
       "3   low  closed             1.0  \n",
       "4   low  closed             1.0  "
      ]
     },
     "execution_count": 36,
     "metadata": {},
     "output_type": "execute_result"
    }
   ],
   "source": [
    "events.head()"
   ]
  },
  {
   "cell_type": "code",
   "execution_count": 35,
   "metadata": {},
   "outputs": [
    {
     "ename": "KeyError",
     "evalue": "'delivery_id'",
     "output_type": "error",
     "traceback": [
      "\u001b[0;31m---------------------------------------------------------------------------\u001b[0m",
      "\u001b[0;31mKeyError\u001b[0m                                  Traceback (most recent call last)",
      "File \u001b[0;32m~/.local/lib/python3.8/site-packages/pandas/core/indexes/base.py:3621\u001b[0m, in \u001b[0;36mIndex.get_loc\u001b[0;34m(self, key, method, tolerance)\u001b[0m\n\u001b[1;32m   3620\u001b[0m \u001b[39mtry\u001b[39;00m:\n\u001b[0;32m-> 3621\u001b[0m     \u001b[39mreturn\u001b[39;00m \u001b[39mself\u001b[39;49m\u001b[39m.\u001b[39;49m_engine\u001b[39m.\u001b[39;49mget_loc(casted_key)\n\u001b[1;32m   3622\u001b[0m \u001b[39mexcept\u001b[39;00m \u001b[39mKeyError\u001b[39;00m \u001b[39mas\u001b[39;00m err:\n",
      "File \u001b[0;32m~/.local/lib/python3.8/site-packages/pandas/_libs/index.pyx:136\u001b[0m, in \u001b[0;36mpandas._libs.index.IndexEngine.get_loc\u001b[0;34m()\u001b[0m\n",
      "File \u001b[0;32m~/.local/lib/python3.8/site-packages/pandas/_libs/index.pyx:163\u001b[0m, in \u001b[0;36mpandas._libs.index.IndexEngine.get_loc\u001b[0;34m()\u001b[0m\n",
      "File \u001b[0;32mpandas/_libs/hashtable_class_helper.pxi:5198\u001b[0m, in \u001b[0;36mpandas._libs.hashtable.PyObjectHashTable.get_item\u001b[0;34m()\u001b[0m\n",
      "File \u001b[0;32mpandas/_libs/hashtable_class_helper.pxi:5206\u001b[0m, in \u001b[0;36mpandas._libs.hashtable.PyObjectHashTable.get_item\u001b[0;34m()\u001b[0m\n",
      "\u001b[0;31mKeyError\u001b[0m: 'delivery_id'",
      "\nThe above exception was the direct cause of the following exception:\n",
      "\u001b[0;31mKeyError\u001b[0m                                  Traceback (most recent call last)",
      "\u001b[1;32m/home/caloja/Documents/University/DS/project/ProyectoICD/notebooks/initial_analysis.ipynb Cell 4\u001b[0m in \u001b[0;36m<cell line: 1>\u001b[0;34m()\u001b[0m\n\u001b[0;32m----> <a href='vscode-notebook-cell:/home/caloja/Documents/University/DS/project/ProyectoICD/notebooks/initial_analysis.ipynb#ch0000004?line=0'>1</a>\u001b[0m events\u001b[39m.\u001b[39mloc[events[\u001b[39m\"\u001b[39;49m\u001b[39mdelivery_id\u001b[39;49m\u001b[39m\"\u001b[39;49m] \u001b[39m==\u001b[39m \u001b[39m\"\u001b[39m\u001b[39mt-amabrt-1744619\u001b[39m\u001b[39m\"\u001b[39m]\n",
      "File \u001b[0;32m~/.local/lib/python3.8/site-packages/pandas/core/frame.py:3505\u001b[0m, in \u001b[0;36mDataFrame.__getitem__\u001b[0;34m(self, key)\u001b[0m\n\u001b[1;32m   3503\u001b[0m \u001b[39mif\u001b[39;00m \u001b[39mself\u001b[39m\u001b[39m.\u001b[39mcolumns\u001b[39m.\u001b[39mnlevels \u001b[39m>\u001b[39m \u001b[39m1\u001b[39m:\n\u001b[1;32m   3504\u001b[0m     \u001b[39mreturn\u001b[39;00m \u001b[39mself\u001b[39m\u001b[39m.\u001b[39m_getitem_multilevel(key)\n\u001b[0;32m-> 3505\u001b[0m indexer \u001b[39m=\u001b[39m \u001b[39mself\u001b[39;49m\u001b[39m.\u001b[39;49mcolumns\u001b[39m.\u001b[39;49mget_loc(key)\n\u001b[1;32m   3506\u001b[0m \u001b[39mif\u001b[39;00m is_integer(indexer):\n\u001b[1;32m   3507\u001b[0m     indexer \u001b[39m=\u001b[39m [indexer]\n",
      "File \u001b[0;32m~/.local/lib/python3.8/site-packages/pandas/core/indexes/base.py:3623\u001b[0m, in \u001b[0;36mIndex.get_loc\u001b[0;34m(self, key, method, tolerance)\u001b[0m\n\u001b[1;32m   3621\u001b[0m     \u001b[39mreturn\u001b[39;00m \u001b[39mself\u001b[39m\u001b[39m.\u001b[39m_engine\u001b[39m.\u001b[39mget_loc(casted_key)\n\u001b[1;32m   3622\u001b[0m \u001b[39mexcept\u001b[39;00m \u001b[39mKeyError\u001b[39;00m \u001b[39mas\u001b[39;00m err:\n\u001b[0;32m-> 3623\u001b[0m     \u001b[39mraise\u001b[39;00m \u001b[39mKeyError\u001b[39;00m(key) \u001b[39mfrom\u001b[39;00m \u001b[39merr\u001b[39;00m\n\u001b[1;32m   3624\u001b[0m \u001b[39mexcept\u001b[39;00m \u001b[39mTypeError\u001b[39;00m:\n\u001b[1;32m   3625\u001b[0m     \u001b[39m# If we have a listlike key, _check_indexing_error will raise\u001b[39;00m\n\u001b[1;32m   3626\u001b[0m     \u001b[39m#  InvalidIndexError. Otherwise we fall through and re-raise\u001b[39;00m\n\u001b[1;32m   3627\u001b[0m     \u001b[39m#  the TypeError.\u001b[39;00m\n\u001b[1;32m   3628\u001b[0m     \u001b[39mself\u001b[39m\u001b[39m.\u001b[39m_check_indexing_error(key)\n",
      "\u001b[0;31mKeyError\u001b[0m: 'delivery_id'"
     ]
    }
   ],
   "source": [
    "events.loc[events[\"delivery_id\"] == \"t-amabrt-1744619\"]"
   ]
  },
  {
   "cell_type": "code",
   "execution_count": 17,
   "metadata": {},
   "outputs": [
    {
     "data": {
      "text/plain": [
       "1.0    94269\n",
       "2.0       16\n",
       "3.0        4\n",
       "Name: company_type, dtype: int64"
      ]
     },
     "execution_count": 17,
     "metadata": {},
     "output_type": "execute_result"
    }
   ],
   "source": [
    "deliveries.company_type.value_counts()"
   ]
  },
  {
   "cell_type": "code",
   "execution_count": 34,
   "metadata": {},
   "outputs": [
    {
     "data": {
      "text/html": [
       "<div>\n",
       "<style scoped>\n",
       "    .dataframe tbody tr th:only-of-type {\n",
       "        vertical-align: middle;\n",
       "    }\n",
       "\n",
       "    .dataframe tbody tr th {\n",
       "        vertical-align: top;\n",
       "    }\n",
       "\n",
       "    .dataframe thead th {\n",
       "        text-align: right;\n",
       "    }\n",
       "</style>\n",
       "<table border=\"1\" class=\"dataframe\">\n",
       "  <thead>\n",
       "    <tr style=\"text-align: right;\">\n",
       "      <th></th>\n",
       "      <th>delivery_dt</th>\n",
       "      <th>max_delivery_dt</th>\n",
       "      <th>delivery_arrival_dt</th>\n",
       "      <th>delivery_effective_dt</th>\n",
       "    </tr>\n",
       "  </thead>\n",
       "  <tbody>\n",
       "    <tr>\n",
       "      <th>0</th>\n",
       "      <td>2022-05-02 14:41:51</td>\n",
       "      <td>2022-05-02 15:41:51</td>\n",
       "      <td>2022-05-02 15:49:13</td>\n",
       "      <td>2022-05-02 15:52:13</td>\n",
       "    </tr>\n",
       "    <tr>\n",
       "      <th>1</th>\n",
       "      <td>2022-05-02 21:49:38</td>\n",
       "      <td>2022-05-02 22:49:38</td>\n",
       "      <td>2022-05-02 17:14:51</td>\n",
       "      <td>2022-05-02 17:16:29</td>\n",
       "    </tr>\n",
       "    <tr>\n",
       "      <th>2</th>\n",
       "      <td>2022-05-03 06:05:17</td>\n",
       "      <td>2022-05-03 07:05:17</td>\n",
       "      <td>2022-05-02 19:13:07</td>\n",
       "      <td>2022-05-02 19:14:19</td>\n",
       "    </tr>\n",
       "    <tr>\n",
       "      <th>3</th>\n",
       "      <td>2022-05-03 07:14:19</td>\n",
       "      <td>2022-05-03 08:14:19</td>\n",
       "      <td>2022-05-02 20:52:14</td>\n",
       "      <td>2022-05-02 20:56:31</td>\n",
       "    </tr>\n",
       "    <tr>\n",
       "      <th>4</th>\n",
       "      <td>2022-05-03 06:43:08</td>\n",
       "      <td>2022-05-03 07:43:08</td>\n",
       "      <td>2022-05-02 17:21:59</td>\n",
       "      <td>2022-05-02 17:27:24</td>\n",
       "    </tr>\n",
       "    <tr>\n",
       "      <th>5</th>\n",
       "      <td>2022-05-02 20:52:37</td>\n",
       "      <td>2022-05-02 21:52:37</td>\n",
       "      <td>2022-05-03 10:33:40</td>\n",
       "      <td>2022-05-03 10:35:35</td>\n",
       "    </tr>\n",
       "    <tr>\n",
       "      <th>6</th>\n",
       "      <td>2022-05-03 07:00:16</td>\n",
       "      <td>2022-05-03 08:00:16</td>\n",
       "      <td>2022-05-02 18:49:36</td>\n",
       "      <td>2022-05-02 18:52:43</td>\n",
       "    </tr>\n",
       "    <tr>\n",
       "      <th>7</th>\n",
       "      <td>2022-05-03 00:26:34</td>\n",
       "      <td>2022-05-03 01:26:34</td>\n",
       "      <td>2022-05-02 17:26:23</td>\n",
       "      <td>2022-05-02 17:30:26</td>\n",
       "    </tr>\n",
       "    <tr>\n",
       "      <th>8</th>\n",
       "      <td>2022-05-03 04:08:38</td>\n",
       "      <td>2022-05-03 05:08:38</td>\n",
       "      <td>2022-05-02 23:27:54</td>\n",
       "      <td>2022-05-02 23:30:56</td>\n",
       "    </tr>\n",
       "    <tr>\n",
       "      <th>9</th>\n",
       "      <td>2022-05-02 16:28:10</td>\n",
       "      <td>2022-05-02 17:28:10</td>\n",
       "      <td>2022-05-02 14:53:14</td>\n",
       "      <td>2022-05-02 14:55:42</td>\n",
       "    </tr>\n",
       "  </tbody>\n",
       "</table>\n",
       "</div>"
      ],
      "text/plain": [
       "           delivery_dt      max_delivery_dt  delivery_arrival_dt  \\\n",
       "0  2022-05-02 14:41:51  2022-05-02 15:41:51  2022-05-02 15:49:13   \n",
       "1  2022-05-02 21:49:38  2022-05-02 22:49:38  2022-05-02 17:14:51   \n",
       "2  2022-05-03 06:05:17  2022-05-03 07:05:17  2022-05-02 19:13:07   \n",
       "3  2022-05-03 07:14:19  2022-05-03 08:14:19  2022-05-02 20:52:14   \n",
       "4  2022-05-03 06:43:08  2022-05-03 07:43:08  2022-05-02 17:21:59   \n",
       "5  2022-05-02 20:52:37  2022-05-02 21:52:37  2022-05-03 10:33:40   \n",
       "6  2022-05-03 07:00:16  2022-05-03 08:00:16  2022-05-02 18:49:36   \n",
       "7  2022-05-03 00:26:34  2022-05-03 01:26:34  2022-05-02 17:26:23   \n",
       "8  2022-05-03 04:08:38  2022-05-03 05:08:38  2022-05-02 23:27:54   \n",
       "9  2022-05-02 16:28:10  2022-05-02 17:28:10  2022-05-02 14:53:14   \n",
       "\n",
       "  delivery_effective_dt  \n",
       "0   2022-05-02 15:52:13  \n",
       "1   2022-05-02 17:16:29  \n",
       "2   2022-05-02 19:14:19  \n",
       "3   2022-05-02 20:56:31  \n",
       "4   2022-05-02 17:27:24  \n",
       "5   2022-05-03 10:35:35  \n",
       "6   2022-05-02 18:52:43  \n",
       "7   2022-05-02 17:30:26  \n",
       "8   2022-05-02 23:30:56  \n",
       "9   2022-05-02 14:55:42  "
      ]
     },
     "execution_count": 34,
     "metadata": {},
     "output_type": "execute_result"
    }
   ],
   "source": [
    "deliveries.loc[:,[\"delivery_dt\",\"max_delivery_dt\",\"delivery_arrival_dt\",\"delivery_effective_dt\"]].head(10)"
   ]
  },
  {
   "cell_type": "code",
   "execution_count": null,
   "metadata": {},
   "outputs": [],
   "source": []
  },
  {
   "cell_type": "markdown",
   "metadata": {},
   "source": [
    "### Eliminar las SAS y Shippify"
   ]
  },
  {
   "cell_type": "code",
   "execution_count": 31,
   "metadata": {},
   "outputs": [
    {
     "data": {
      "text/plain": [
       "94290"
      ]
     },
     "execution_count": 31,
     "metadata": {},
     "output_type": "execute_result"
    }
   ],
   "source": [
    "deliveries.max_pickup_dt.count()"
   ]
  },
  {
   "cell_type": "code",
   "execution_count": null,
   "metadata": {},
   "outputs": [],
   "source": [
    "columns_unusec=[\n",
    "    'formula_id','dispatcher','first_name','last_name','mobile','company_api_id','company_plan_typel','city_id','city_name','city_name','city_lang',\n",
    "    'country_code', 'country_name','currency_code','network_id','network_name','network_type','network_mode','network_company','is_available_to_shippers',\n",
    "    'company_parent_id','job_id','block','due_dt','pickup_due_dt','pickup_service_time','delivery_service_time','vehicle_id','partial','company_name'\n",
    "    ]"
   ]
  },
  {
   "cell_type": "code",
   "execution_count": 38,
   "metadata": {},
   "outputs": [],
   "source": [
    "columns_use=['_status',\n",
    " 'cost',\n",
    " 'creation_dt',\n",
    " 'deliveryLat',\n",
    " 'deliveryLng',\n",
    " 'delivery_arrival_dt',\n",
    " 'delivery_dt',\n",
    " 'delivery_effective_dt',\n",
    " 'distance',\n",
    " 'distance_charged',\n",
    " 'distance_route',\n",
    " 'final_price',\n",
    " 'id',\n",
    " 'items',\n",
    " 'max_delivery_dt',\n",
    " 'max_pickup_dt',\n",
    " 'pickupLat',\n",
    " 'pickupLng',\n",
    " 'pickup_arrival_dt',\n",
    " 'pickup_dt',\n",
    " 'pickup_effective_dt',\n",
    " 'route_id',\n",
    " 'state',\n",
    " 'total_package_price',\n",
    " 'total_size',\n",
    " 'vehicle_capacity']"
   ]
  },
  {
   "cell_type": "code",
   "execution_count": null,
   "metadata": {},
   "outputs": [],
   "source": []
  }
 ],
 "metadata": {
  "kernelspec": {
   "display_name": "Python 3.8.10 64-bit",
   "language": "python",
   "name": "python3"
  },
  "language_info": {
   "codemirror_mode": {
    "name": "ipython",
    "version": 3
   },
   "file_extension": ".py",
   "mimetype": "text/x-python",
   "name": "python",
   "nbconvert_exporter": "python",
   "pygments_lexer": "ipython3",
   "version": "3.8.10"
  },
  "orig_nbformat": 4,
  "vscode": {
   "interpreter": {
    "hash": "916dbcbb3f70747c44a77c7bcd40155683ae19c65e1c03b4aa3499c5328201f1"
   }
  }
 },
 "nbformat": 4,
 "nbformat_minor": 2
}
