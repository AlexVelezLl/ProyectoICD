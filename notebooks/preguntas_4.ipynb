{
 "cells": [
  {
   "cell_type": "code",
   "execution_count": 2,
   "metadata": {},
   "outputs": [],
   "source": [
    "import pandas as pd\n",
    "import numpy as np\n",
    "import seaborn as sbn\n",
    "import matplotlib.pyplot as plt"
   ]
  },
  {
   "cell_type": "code",
   "execution_count": 3,
   "metadata": {},
   "outputs": [],
   "source": [
    "deliveries= pd.read_csv('../data/parsed/deliveries_clean.csv')"
   ]
  },
  {
   "cell_type": "code",
   "execution_count": 4,
   "metadata": {},
   "outputs": [
    {
     "data": {
      "text/html": [
       "<div>\n",
       "<style scoped>\n",
       "    .dataframe tbody tr th:only-of-type {\n",
       "        vertical-align: middle;\n",
       "    }\n",
       "\n",
       "    .dataframe tbody tr th {\n",
       "        vertical-align: top;\n",
       "    }\n",
       "\n",
       "    .dataframe thead th {\n",
       "        text-align: right;\n",
       "    }\n",
       "</style>\n",
       "<table border=\"1\" class=\"dataframe\">\n",
       "  <thead>\n",
       "    <tr style=\"text-align: right;\">\n",
       "      <th></th>\n",
       "      <th>id</th>\n",
       "      <th>route_id</th>\n",
       "      <th>state</th>\n",
       "      <th>_status</th>\n",
       "      <th>items</th>\n",
       "      <th>total_size</th>\n",
       "      <th>pickupLat</th>\n",
       "      <th>pickupLng</th>\n",
       "      <th>deliveryLat</th>\n",
       "      <th>deliveryLng</th>\n",
       "      <th>...</th>\n",
       "      <th>delivery_arrival_dt</th>\n",
       "      <th>delivery_effective_dt</th>\n",
       "      <th>cost</th>\n",
       "      <th>final_price</th>\n",
       "      <th>distance</th>\n",
       "      <th>shipper_id</th>\n",
       "      <th>distance_charged</th>\n",
       "      <th>distance_route</th>\n",
       "      <th>total_package_price</th>\n",
       "      <th>vehicle_capacity</th>\n",
       "    </tr>\n",
       "  </thead>\n",
       "  <tbody>\n",
       "    <tr>\n",
       "      <th>0</th>\n",
       "      <td>t-amabrt-1743660</td>\n",
       "      <td>r-shiinc-1248026</td>\n",
       "      <td>7</td>\n",
       "      <td>completed</td>\n",
       "      <td>[{'id':'SFYBR004818881','qty':1,'name':'CAIXA'...</td>\n",
       "      <td>2</td>\n",
       "      <td>-19.9618</td>\n",
       "      <td>-44.0285</td>\n",
       "      <td>-19.4522</td>\n",
       "      <td>-44.2543</td>\n",
       "      <td>...</td>\n",
       "      <td>2022-05-02 15:49:13</td>\n",
       "      <td>2022-05-02 15:52:13</td>\n",
       "      <td>4.47</td>\n",
       "      <td>5.76</td>\n",
       "      <td>72.2</td>\n",
       "      <td>247379.0</td>\n",
       "      <td>0.3</td>\n",
       "      <td>0.3</td>\n",
       "      <td>19.72</td>\n",
       "      <td>2.0</td>\n",
       "    </tr>\n",
       "    <tr>\n",
       "      <th>1</th>\n",
       "      <td>t-amabrt-1743661</td>\n",
       "      <td>r-shiinc-1248060</td>\n",
       "      <td>7</td>\n",
       "      <td>completed</td>\n",
       "      <td>[{'id':'SFYBR004812869','qty':1,'name':'CAIXA'...</td>\n",
       "      <td>2</td>\n",
       "      <td>-19.9618</td>\n",
       "      <td>-44.0285</td>\n",
       "      <td>-19.8932</td>\n",
       "      <td>-43.9991</td>\n",
       "      <td>...</td>\n",
       "      <td>2022-05-02 17:14:51</td>\n",
       "      <td>2022-05-02 17:16:29</td>\n",
       "      <td>2.99</td>\n",
       "      <td>6.87</td>\n",
       "      <td>12.2</td>\n",
       "      <td>222936.0</td>\n",
       "      <td>0.2</td>\n",
       "      <td>0.2</td>\n",
       "      <td>30.04</td>\n",
       "      <td>2.0</td>\n",
       "    </tr>\n",
       "    <tr>\n",
       "      <th>2</th>\n",
       "      <td>t-amabrt-1743662</td>\n",
       "      <td>r-shiinc-1248042</td>\n",
       "      <td>7</td>\n",
       "      <td>completed</td>\n",
       "      <td>[{'id':'SFYBR004809553','qty':1,'name':'CAIXA'...</td>\n",
       "      <td>2</td>\n",
       "      <td>-19.9618</td>\n",
       "      <td>-44.0285</td>\n",
       "      <td>-19.8820</td>\n",
       "      <td>-44.0004</td>\n",
       "      <td>...</td>\n",
       "      <td>2022-05-02 19:13:07</td>\n",
       "      <td>2022-05-02 19:14:19</td>\n",
       "      <td>2.99</td>\n",
       "      <td>4.87</td>\n",
       "      <td>13.3</td>\n",
       "      <td>348598.0</td>\n",
       "      <td>0.4</td>\n",
       "      <td>0.4</td>\n",
       "      <td>39.60</td>\n",
       "      <td>2.0</td>\n",
       "    </tr>\n",
       "    <tr>\n",
       "      <th>3</th>\n",
       "      <td>t-amabrt-1743663</td>\n",
       "      <td>r-shiinc-1248032</td>\n",
       "      <td>7</td>\n",
       "      <td>completed</td>\n",
       "      <td>[{'id':'SFYBR004808848','qty':1,'name':'CAIXA'...</td>\n",
       "      <td>2</td>\n",
       "      <td>-19.9618</td>\n",
       "      <td>-44.0285</td>\n",
       "      <td>-19.7904</td>\n",
       "      <td>-43.9844</td>\n",
       "      <td>...</td>\n",
       "      <td>2022-05-02 20:52:14</td>\n",
       "      <td>2022-05-02 20:56:31</td>\n",
       "      <td>2.99</td>\n",
       "      <td>4.80</td>\n",
       "      <td>27.7</td>\n",
       "      <td>393179.0</td>\n",
       "      <td>0.9</td>\n",
       "      <td>0.9</td>\n",
       "      <td>30.63</td>\n",
       "      <td>2.0</td>\n",
       "    </tr>\n",
       "    <tr>\n",
       "      <th>4</th>\n",
       "      <td>t-amabrt-1743664</td>\n",
       "      <td>r-shiinc-1248067</td>\n",
       "      <td>7</td>\n",
       "      <td>completed</td>\n",
       "      <td>[{'id':'SFYBR004808369','qty':1,'name':'CAIXA'...</td>\n",
       "      <td>2</td>\n",
       "      <td>-19.9618</td>\n",
       "      <td>-44.0285</td>\n",
       "      <td>-19.8798</td>\n",
       "      <td>-43.9029</td>\n",
       "      <td>...</td>\n",
       "      <td>2022-05-02 17:21:59</td>\n",
       "      <td>2022-05-02 17:27:24</td>\n",
       "      <td>2.99</td>\n",
       "      <td>5.94</td>\n",
       "      <td>18.9</td>\n",
       "      <td>269174.0</td>\n",
       "      <td>0.0</td>\n",
       "      <td>0.0</td>\n",
       "      <td>4.90</td>\n",
       "      <td>2.0</td>\n",
       "    </tr>\n",
       "  </tbody>\n",
       "</table>\n",
       "<p>5 rows × 26 columns</p>\n",
       "</div>"
      ],
      "text/plain": [
       "                 id          route_id  state    _status  \\\n",
       "0  t-amabrt-1743660  r-shiinc-1248026      7  completed   \n",
       "1  t-amabrt-1743661  r-shiinc-1248060      7  completed   \n",
       "2  t-amabrt-1743662  r-shiinc-1248042      7  completed   \n",
       "3  t-amabrt-1743663  r-shiinc-1248032      7  completed   \n",
       "4  t-amabrt-1743664  r-shiinc-1248067      7  completed   \n",
       "\n",
       "                                               items  total_size  pickupLat  \\\n",
       "0  [{'id':'SFYBR004818881','qty':1,'name':'CAIXA'...           2   -19.9618   \n",
       "1  [{'id':'SFYBR004812869','qty':1,'name':'CAIXA'...           2   -19.9618   \n",
       "2  [{'id':'SFYBR004809553','qty':1,'name':'CAIXA'...           2   -19.9618   \n",
       "3  [{'id':'SFYBR004808848','qty':1,'name':'CAIXA'...           2   -19.9618   \n",
       "4  [{'id':'SFYBR004808369','qty':1,'name':'CAIXA'...           2   -19.9618   \n",
       "\n",
       "   pickupLng  deliveryLat  deliveryLng  ...  delivery_arrival_dt  \\\n",
       "0   -44.0285     -19.4522     -44.2543  ...  2022-05-02 15:49:13   \n",
       "1   -44.0285     -19.8932     -43.9991  ...  2022-05-02 17:14:51   \n",
       "2   -44.0285     -19.8820     -44.0004  ...  2022-05-02 19:13:07   \n",
       "3   -44.0285     -19.7904     -43.9844  ...  2022-05-02 20:52:14   \n",
       "4   -44.0285     -19.8798     -43.9029  ...  2022-05-02 17:21:59   \n",
       "\n",
       "  delivery_effective_dt  cost final_price distance shipper_id  \\\n",
       "0   2022-05-02 15:52:13  4.47        5.76     72.2   247379.0   \n",
       "1   2022-05-02 17:16:29  2.99        6.87     12.2   222936.0   \n",
       "2   2022-05-02 19:14:19  2.99        4.87     13.3   348598.0   \n",
       "3   2022-05-02 20:56:31  2.99        4.80     27.7   393179.0   \n",
       "4   2022-05-02 17:27:24  2.99        5.94     18.9   269174.0   \n",
       "\n",
       "  distance_charged distance_route  total_package_price  vehicle_capacity  \n",
       "0              0.3            0.3                19.72               2.0  \n",
       "1              0.2            0.2                30.04               2.0  \n",
       "2              0.4            0.4                39.60               2.0  \n",
       "3              0.9            0.9                30.63               2.0  \n",
       "4              0.0            0.0                 4.90               2.0  \n",
       "\n",
       "[5 rows x 26 columns]"
      ]
     },
     "execution_count": 4,
     "metadata": {},
     "output_type": "execute_result"
    }
   ],
   "source": [
    "deliveries.head()"
   ]
  },
  {
   "cell_type": "code",
   "execution_count": 23,
   "metadata": {},
   "outputs": [],
   "source": [
    "columns_to_change=[\n",
    "    'pickup_dt',\n",
    "    'max_pickup_dt',\n",
    "    'pickup_arrival_dt',\n",
    "    'pickup_effective_dt',\n",
    "    'delivery_dt',\n",
    "    'max_delivery_dt',\n",
    "    'delivery_arrival_dt',\n",
    "    'delivery_effective_dt'\n",
    "]\n",
    "\n",
    "for i in columns_to_change:\n",
    "    deliveries[i]=pd.to_datetime(deliveries[i]).dt.tz_localize('UTC').dt.tz_convert('America/Fortaleza')"
   ]
  },
  {
   "cell_type": "code",
   "execution_count": null,
   "metadata": {},
   "outputs": [],
   "source": []
  },
  {
   "cell_type": "code",
   "execution_count": 26,
   "metadata": {},
   "outputs": [],
   "source": [
    "deliveries['day']=deliveries.delivery_effective_dt.apply(lambda x: x.strftime('%A'))\n",
    "# deliveries.groupby(pd.Grouper(freq='h',key='delivery_effective_dt')).sum()"
   ]
  },
  {
   "cell_type": "code",
   "execution_count": 27,
   "metadata": {},
   "outputs": [],
   "source": [
    "deliveries.sort_values('day',inplace=True)"
   ]
  },
  {
   "cell_type": "code",
   "execution_count": null,
   "metadata": {},
   "outputs": [],
   "source": []
  },
  {
   "cell_type": "code",
   "execution_count": 28,
   "metadata": {},
   "outputs": [],
   "source": [
    "def generate_pivot_table_day(key,df):\n",
    "    columns_order=['Sunday','Monday','Tuesday','Wednesday','Thursday','Friday','Saturday']\n",
    "    df_reindex=df.set_index(key)\n",
    "    delivery_reindex=df_reindex.groupby([df_reindex.index.hour,'day']).count().reset_index()\n",
    "    t_pivot= pd.pivot_table(delivery_reindex, index=[key], columns='day',values=\"id\")\n",
    "    t_pivot=t_pivot.reindex(columns_order,axis=1)\n",
    "    t_pivot.sort_index(level=0,ascending=False,inplace=True)\n",
    "    return t_pivot\n"
   ]
  },
  {
   "cell_type": "code",
   "execution_count": 29,
   "metadata": {},
   "outputs": [],
   "source": [
    "t_delivery_arrival_dt=generate_pivot_table_day('delivery_arrival_dt',deliveries)\n",
    "t_pickup_effective_dt=generate_pivot_table_day('pickup_effective_dt',deliveries)"
   ]
  },
  {
   "cell_type": "code",
   "execution_count": 71,
   "metadata": {},
   "outputs": [
    {
     "data": {
      "image/png": "[encoded data removed]",
      "text/html": [
       "<div style=\"vertical-align: middle;\"><strong>blend</strong> </div><div class=\"cmap\"><img alt=\"blend colormap\" title=\"blend\" style=\"border: 1px solid #555;\" src=\"data:image/png;base64,iVBORw0KGgoAAAANSUhEUgAAAgAAAABACAYAAABsv8+/AAAAFHRFWHRUaXRsZQBibGVuZCBjb2xvcm1hcKH0gPAAAAAadEVYdERlc2NyaXB0aW9uAGJsZW5kIGNvbG9ybWFwX6spFgAAADB0RVh0QXV0aG9yAE1hdHBsb3RsaWIgdjMuNS4yLCBodHRwczovL21hdHBsb3RsaWIub3Jnwlp4nAAAADJ0RVh0U29mdHdhcmUATWF0cGxvdGxpYiB2My41LjIsIGh0dHBzOi8vbWF0cGxvdGxpYi5vcmfs/Oe7AAABzUlEQVR4nO3WwU7CQBRA0er/f6mJG3+gLghWpx0EbOLinrMRbGc6jwRyX94+3tdlWZZlufxZv95dX6zfrm7/v963rTu+b1nHdT/vmz13t//0fMO66fmOz7Hddee66VzDuf5rrq/Lj647e67rMX7Zf7jvz3Ptnnt73TbX8XnPm2uy/+5847oH57r3uc9+bifNNf/cJ+tm39vp787Zcz24/3De8+Y6Xrd/7rP7nz3X7XWnzzX7fj+5//lzDdencw373zvX9Hzjcy9eFwAgRwAAQJAAAIAgAQAAQQIAAIIEAAAECQAACBIAABAkAAAgSAAAQJAAAIAgAQAAQQIAAIIEAAAECQAACBIAABAkAAAgSAAAQJAAAIAgAQAAQQIAAIIEAAAECQAACBIAABAkAAAgSAAAQJAAAIAgAQAAQQIAAIIEAAAECQAACBIAABAkAAAgSAAAQJAAAIAgAQAAQQIAAIIEAAAECQAACBIAABAkAAAgSAAAQJAAAIAgAQAAQQIAAIIEAAAECQAACBIAABAkAAAgSAAAQJAAAIAgAQAAQQIAAIIEAAAECQAACBIAABAkAAAgSAAAQJAAAIAgAQAAQQIAAIIEAAAECQAACPoE5sW7nsq6G7AAAAAASUVORK5CYII=\"></div><div style=\"vertical-align: middle; max-width: 514px; display: flex; justify-content: space-between;\"><div style=\"float: left;\"><div title=\"#ebf3edff\" style=\"display: inline-block; width: 1em; height: 1em; margin: 0; vertical-align: middle; border: 1px solid #555; background-color: #ebf3edff;\"></div> under</div><div style=\"margin: 0 auto; display: inline-block;\">bad <div title=\"#00000000\" style=\"display: inline-block; width: 1em; height: 1em; margin: 0; vertical-align: middle; border: 1px solid #555; background-color: #00000000;\"></div></div><div style=\"float: right;\">over <div title=\"#2e8b57ff\" style=\"display: inline-block; width: 1em; height: 1em; margin: 0; vertical-align: middle; border: 1px solid #555; background-color: #2e8b57ff;\"></div></div>"
      ],
      "text/plain": [
       "<matplotlib.colors.LinearSegmentedColormap at 0x7f091853faf0>"
      ]
     },
     "execution_count": 71,
     "metadata": {},
     "output_type": "execute_result"
    }
   ],
   "source": [
    "sbn.light_palette(\"seagreen\", as_cmap=True)\n"
   ]
  },
  {
   "cell_type": "code",
   "execution_count": 76,
   "metadata": {},
   "outputs": [
    {
     "data": {
      "text/plain": [
       "Text(0.5, 141.0, 'Days')"
      ]
     },
     "execution_count": 76,
     "metadata": {},
     "output_type": "execute_result"
    },
    {
     "data": {
      "image/png": "[encoded data removed]",
      "text/plain": [
       "<Figure size 1800x1296 with 4 Axes>"
      ]
     },
     "metadata": {},
     "output_type": "display_data"
    }
   ],
   "source": [
    "sbn.set_style('darkgrid')\n",
    "fig,axs= plt.subplots(1,2,figsize=(25,18))\n",
    "ax1=sbn.heatmap(t_pickup_effective_dt,ax=axs[0],cmap=sbn.color_palette(\"mako_r\", as_cmap=True))\n",
    "ax2=sbn.heatmap(t_delivery_arrival_dt,ax=axs[1],cmap=sbn.color_palette(\"mako_r\", as_cmap=True))\n",
    "ax1.set_ylabel('Hours')\n",
    "ax2.set_ylabel('Hours')\n",
    "ax1.set_xlabel('Days')\n",
    "ax2.set_xlabel('Days')"
   ]
  },
  {
   "cell_type": "markdown",
   "metadata": {},
   "source": [
    "### Pregunta 4\n",
    "\n",
    "Se observa como el tiempo de recogida y entrega de pedido se realizan en mayor cantidad los días lunes, esto posiblementer a que es inicio de semana y parte de las entregas generadas en fin de semana no se relizan en horario no laboral.\n",
    "Además las horas en las que se recoge una gran cantidad de pedidos es a primeras horas de la tarde,  entre las 13-14, por otra lado las entregas se realizan de 16-17"
   ]
  },
  {
   "cell_type": "code",
   "execution_count": 31,
   "metadata": {},
   "outputs": [
    {
     "data": {
      "text/html": [
       "<div>\n",
       "<style scoped>\n",
       "    .dataframe tbody tr th:only-of-type {\n",
       "        vertical-align: middle;\n",
       "    }\n",
       "\n",
       "    .dataframe tbody tr th {\n",
       "        vertical-align: top;\n",
       "    }\n",
       "\n",
       "    .dataframe thead th {\n",
       "        text-align: right;\n",
       "    }\n",
       "</style>\n",
       "<table border=\"1\" class=\"dataframe\">\n",
       "  <thead>\n",
       "    <tr style=\"text-align: right;\">\n",
       "      <th></th>\n",
       "      <th>id</th>\n",
       "      <th>route_id</th>\n",
       "      <th>state</th>\n",
       "      <th>_status</th>\n",
       "      <th>items</th>\n",
       "      <th>total_size</th>\n",
       "      <th>pickupLat</th>\n",
       "      <th>pickupLng</th>\n",
       "      <th>deliveryLat</th>\n",
       "      <th>deliveryLng</th>\n",
       "      <th>...</th>\n",
       "      <th>delivery_effective_dt</th>\n",
       "      <th>cost</th>\n",
       "      <th>final_price</th>\n",
       "      <th>distance</th>\n",
       "      <th>shipper_id</th>\n",
       "      <th>distance_charged</th>\n",
       "      <th>distance_route</th>\n",
       "      <th>total_package_price</th>\n",
       "      <th>vehicle_capacity</th>\n",
       "      <th>day</th>\n",
       "    </tr>\n",
       "  </thead>\n",
       "  <tbody>\n",
       "    <tr>\n",
       "      <th>26756</th>\n",
       "      <td>t-amabrt-1808543</td>\n",
       "      <td>r-shiinc-1281819</td>\n",
       "      <td>7</td>\n",
       "      <td>completed</td>\n",
       "      <td>[{'id':'SFYBR005051494','qty':1,'name':'CAIXA'...</td>\n",
       "      <td>2</td>\n",
       "      <td>-19.9618</td>\n",
       "      <td>-44.0285</td>\n",
       "      <td>-19.9287</td>\n",
       "      <td>-43.9249</td>\n",
       "      <td>...</td>\n",
       "      <td>2022-05-20 14:36:31-03:00</td>\n",
       "      <td>2.99</td>\n",
       "      <td>4.8</td>\n",
       "      <td>13.3</td>\n",
       "      <td>108548.0</td>\n",
       "      <td>0.9</td>\n",
       "      <td>0.9</td>\n",
       "      <td>7.49</td>\n",
       "      <td>2.0</td>\n",
       "      <td>Friday</td>\n",
       "    </tr>\n",
       "    <tr>\n",
       "      <th>18059</th>\n",
       "      <td>t-amabrt-1782529</td>\n",
       "      <td>r-shiinc-1266950</td>\n",
       "      <td>7</td>\n",
       "      <td>completed</td>\n",
       "      <td>[{'id':'SFYBR004951197','qty':1,'name':'CAIXA'...</td>\n",
       "      <td>2</td>\n",
       "      <td>-19.9618</td>\n",
       "      <td>-44.0285</td>\n",
       "      <td>-19.9232</td>\n",
       "      <td>-43.9239</td>\n",
       "      <td>...</td>\n",
       "      <td>2022-05-13 11:07:06-03:00</td>\n",
       "      <td>1.95</td>\n",
       "      <td>5.0</td>\n",
       "      <td>13.6</td>\n",
       "      <td>266032.0</td>\n",
       "      <td>0.8</td>\n",
       "      <td>0.8</td>\n",
       "      <td>64.43</td>\n",
       "      <td>2.0</td>\n",
       "      <td>Friday</td>\n",
       "    </tr>\n",
       "    <tr>\n",
       "      <th>50779</th>\n",
       "      <td>t-amaste-1243743</td>\n",
       "      <td>r-shiinc-1256378</td>\n",
       "      <td>7</td>\n",
       "      <td>completed</td>\n",
       "      <td>[{'id':'SFYBR004872434','qty':1,'name':'CAIXA'...</td>\n",
       "      <td>2</td>\n",
       "      <td>-19.9618</td>\n",
       "      <td>-44.0285</td>\n",
       "      <td>-19.8634</td>\n",
       "      <td>-44.0390</td>\n",
       "      <td>...</td>\n",
       "      <td>2022-05-06 17:07:40-03:00</td>\n",
       "      <td>2.99</td>\n",
       "      <td>4.8</td>\n",
       "      <td>15.6</td>\n",
       "      <td>279651.0</td>\n",
       "      <td>1.0</td>\n",
       "      <td>1.0</td>\n",
       "      <td>109.90</td>\n",
       "      <td>2.0</td>\n",
       "      <td>Friday</td>\n",
       "    </tr>\n",
       "    <tr>\n",
       "      <th>50781</th>\n",
       "      <td>t-amaste-1243745</td>\n",
       "      <td>r-shiinc-1256369</td>\n",
       "      <td>7</td>\n",
       "      <td>completed</td>\n",
       "      <td>[{'id':'SFYBR004881448','qty':1,'name':'CAIXA'...</td>\n",
       "      <td>2</td>\n",
       "      <td>-19.9618</td>\n",
       "      <td>-44.0285</td>\n",
       "      <td>-19.8601</td>\n",
       "      <td>-43.9431</td>\n",
       "      <td>...</td>\n",
       "      <td>2022-05-06 13:43:52-03:00</td>\n",
       "      <td>2.60</td>\n",
       "      <td>4.8</td>\n",
       "      <td>17.1</td>\n",
       "      <td>356555.0</td>\n",
       "      <td>0.2</td>\n",
       "      <td>0.2</td>\n",
       "      <td>12.42</td>\n",
       "      <td>2.0</td>\n",
       "      <td>Friday</td>\n",
       "    </tr>\n",
       "    <tr>\n",
       "      <th>50782</th>\n",
       "      <td>t-amaste-1243746</td>\n",
       "      <td>r-shiinc-1256386</td>\n",
       "      <td>7</td>\n",
       "      <td>completed</td>\n",
       "      <td>[{'id':'SFYBR004873941','qty':1,'name':'CAIXA'...</td>\n",
       "      <td>2</td>\n",
       "      <td>-19.9618</td>\n",
       "      <td>-44.0285</td>\n",
       "      <td>-19.9404</td>\n",
       "      <td>-44.0333</td>\n",
       "      <td>...</td>\n",
       "      <td>2022-05-06 13:54:00-03:00</td>\n",
       "      <td>2.99</td>\n",
       "      <td>5.0</td>\n",
       "      <td>3.6</td>\n",
       "      <td>115816.0</td>\n",
       "      <td>0.6</td>\n",
       "      <td>0.6</td>\n",
       "      <td>94.99</td>\n",
       "      <td>2.0</td>\n",
       "      <td>Friday</td>\n",
       "    </tr>\n",
       "  </tbody>\n",
       "</table>\n",
       "<p>5 rows × 27 columns</p>\n",
       "</div>"
      ],
      "text/plain": [
       "                     id          route_id  state    _status  \\\n",
       "26756  t-amabrt-1808543  r-shiinc-1281819      7  completed   \n",
       "18059  t-amabrt-1782529  r-shiinc-1266950      7  completed   \n",
       "50779  t-amaste-1243743  r-shiinc-1256378      7  completed   \n",
       "50781  t-amaste-1243745  r-shiinc-1256369      7  completed   \n",
       "50782  t-amaste-1243746  r-shiinc-1256386      7  completed   \n",
       "\n",
       "                                                   items  total_size  \\\n",
       "26756  [{'id':'SFYBR005051494','qty':1,'name':'CAIXA'...           2   \n",
       "18059  [{'id':'SFYBR004951197','qty':1,'name':'CAIXA'...           2   \n",
       "50779  [{'id':'SFYBR004872434','qty':1,'name':'CAIXA'...           2   \n",
       "50781  [{'id':'SFYBR004881448','qty':1,'name':'CAIXA'...           2   \n",
       "50782  [{'id':'SFYBR004873941','qty':1,'name':'CAIXA'...           2   \n",
       "\n",
       "       pickupLat  pickupLng  deliveryLat  deliveryLng  ...  \\\n",
       "26756   -19.9618   -44.0285     -19.9287     -43.9249  ...   \n",
       "18059   -19.9618   -44.0285     -19.9232     -43.9239  ...   \n",
       "50779   -19.9618   -44.0285     -19.8634     -44.0390  ...   \n",
       "50781   -19.9618   -44.0285     -19.8601     -43.9431  ...   \n",
       "50782   -19.9618   -44.0285     -19.9404     -44.0333  ...   \n",
       "\n",
       "          delivery_effective_dt  cost final_price distance shipper_id  \\\n",
       "26756 2022-05-20 14:36:31-03:00  2.99         4.8     13.3   108548.0   \n",
       "18059 2022-05-13 11:07:06-03:00  1.95         5.0     13.6   266032.0   \n",
       "50779 2022-05-06 17:07:40-03:00  2.99         4.8     15.6   279651.0   \n",
       "50781 2022-05-06 13:43:52-03:00  2.60         4.8     17.1   356555.0   \n",
       "50782 2022-05-06 13:54:00-03:00  2.99         5.0      3.6   115816.0   \n",
       "\n",
       "      distance_charged distance_route total_package_price  vehicle_capacity  \\\n",
       "26756              0.9            0.9                7.49               2.0   \n",
       "18059              0.8            0.8               64.43               2.0   \n",
       "50779              1.0            1.0              109.90               2.0   \n",
       "50781              0.2            0.2               12.42               2.0   \n",
       "50782              0.6            0.6               94.99               2.0   \n",
       "\n",
       "          day  \n",
       "26756  Friday  \n",
       "18059  Friday  \n",
       "50779  Friday  \n",
       "50781  Friday  \n",
       "50782  Friday  \n",
       "\n",
       "[5 rows x 27 columns]"
      ]
     },
     "execution_count": 31,
     "metadata": {},
     "output_type": "execute_result"
    }
   ],
   "source": [
    "deliveries.head()"
   ]
  },
  {
   "cell_type": "code",
   "execution_count": 32,
   "metadata": {},
   "outputs": [],
   "source": [
    "days=['Sunday','Monday','Tuesday','Wednesday','Thursday','Friday','Saturday']"
   ]
  },
  {
   "cell_type": "code",
   "execution_count": 35,
   "metadata": {},
   "outputs": [],
   "source": [
    "shipper_route_days=deliveries.groupby(['day','shipper_id']).agg({'route_id':lambda x: x.unique().size})"
   ]
  },
  {
   "cell_type": "code",
   "execution_count": 36,
   "metadata": {},
   "outputs": [],
   "source": [
    "# shipper_route_days.xs(i)"
   ]
  },
  {
   "cell_type": "code",
   "execution_count": 44,
   "metadata": {},
   "outputs": [],
   "source": [
    "min_value=shipper_route_days.route_id.min()\n",
    "max_value=shipper_route_days.route_id.max()"
   ]
  },
  {
   "cell_type": "code",
   "execution_count": null,
   "metadata": {},
   "outputs": [],
   "source": []
  },
  {
   "cell_type": "code",
   "execution_count": 85,
   "metadata": {},
   "outputs": [
    {
     "data": {
      "image/png": "[encoded data removed]",
      "text/plain": [
       "<Figure size 1080x1800 with 8 Axes>"
      ]
     },
     "metadata": {},
     "output_type": "display_data"
    }
   ],
   "source": [
    "fig,axs= plt.subplots(4,2,figsize=(15,25))\n",
    "fila=0\n",
    "col=0\n",
    "for indice,i in enumerate(days):\n",
    "    col=indice%2\n",
    "    df_dia=shipper_route_days.xs(i)\n",
    "    ax=sbn.boxplot(x=df_dia[\"route_id\"],ax=axs[fila,col],palette='rainbow_r')\n",
    "    ax.title.set_text(i)\n",
    "    ax.set_xlabel('Count of routes')\n",
    "    ax.set_xlim(min(min_value,0),max_value)\n",
    "    fila= fila if col==0 else fila+1;"
   ]
  },
  {
   "cell_type": "markdown",
   "metadata": {},
   "source": [
    "### Pregunta 6\n",
    "Se observa que la media de ruta por día, gira en torno del 2, a excepción del domingo, esto puede ser debido a que no es horario laboral. Por otra parte los demás días solo tienen en promdio dos rutas, esto dado que cada ruta puede llegar a tener mas de 10 deliveries que pueden llegar a tomar medio día o mas."
   ]
  },
  {
   "cell_type": "markdown",
   "metadata": {},
   "source": []
  }
 ],
 "metadata": {
  "kernelspec": {
   "display_name": "Python 3.8.10 64-bit",
   "language": "python",
   "name": "python3"
  },
  "language_info": {
   "codemirror_mode": {
    "name": "ipython",
    "version": 3
   },
   "file_extension": ".py",
   "mimetype": "text/x-python",
   "name": "python",
   "nbconvert_exporter": "python",
   "pygments_lexer": "ipython3",
   "version": "3.8.10"
  },
  "orig_nbformat": 4,
  "vscode": {
   "interpreter": {
    "hash": "916dbcbb3f70747c44a77c7bcd40155683ae19c65e1c03b4aa3499c5328201f1"
   }
  }
 },
 "nbformat": 4,
 "nbformat_minor": 2
}
