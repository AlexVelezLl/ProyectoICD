{
 "cells": [
  {
   "cell_type": "code",
   "execution_count": 1,
   "metadata": {},
   "outputs": [],
   "source": [
    "import pandas as pd"
   ]
  },
  {
   "cell_type": "code",
   "execution_count": 2,
   "metadata": {},
   "outputs": [],
   "source": [
    "pd.set_option('display.max_columns', None) "
   ]
  },
  {
   "cell_type": "code",
   "execution_count": 3,
   "metadata": {},
   "outputs": [],
   "source": [
    "deliveries = pd.read_csv('../data/parsed/deliveries.csv',low_memory=False)"
   ]
  },
  {
   "cell_type": "code",
   "execution_count": 4,
   "metadata": {},
   "outputs": [
    {
     "data": {
      "text/plain": [
       "335"
      ]
     },
     "execution_count": 4,
     "metadata": {},
     "output_type": "execute_result"
    }
   ],
   "source": [
    "(deliveries[\"cost\"] < 1).sum()"
   ]
  },
  {
   "cell_type": "code",
   "execution_count": 5,
   "metadata": {},
   "outputs": [
    {
     "data": {
      "text/plain": [
       "(0, 76)"
      ]
     },
     "execution_count": 5,
     "metadata": {},
     "output_type": "execute_result"
    }
   ],
   "source": [
    "deliveries.loc[deliveries[\"deliveryLng\"].isnull()].shape"
   ]
  },
  {
   "cell_type": "code",
   "execution_count": 38,
   "metadata": {},
   "outputs": [
    {
     "data": {
      "text/plain": [
       "0.0    94289\n",
       "Name: total_amount, dtype: int64"
      ]
     },
     "execution_count": 38,
     "metadata": {},
     "output_type": "execute_result"
    }
   ],
   "source": [
    "deliveries[\"total_amount\"].value_counts()"
   ]
  },
  {
   "cell_type": "code",
   "execution_count": 6,
   "metadata": {},
   "outputs": [],
   "source": [
    "columns_unusec=[\n",
    "    'formula_id','dispatcher','first_name','last_name','mobile','company_api_id','company_plan_typel','city_id','city_name','city_name','city_lang',\n",
    "    'country_code', 'country_name','currency_code','network_id','network_name','network_type','network_mode','network_company','is_available_to_shippers',\n",
    "    'company_parent_id','job_id','block','due_dt','pickup_due_dt','pickup_service_time','delivery_service_time','vehicle_id','partial','company_name',\n",
    "    'colleted', 'company_plan_type', 'company_mode', 'company_id', 'company_type', 'delivery_due_dt', 'delivery_location', 'delivery_type', 'insurance',\n",
    "    'last_event_params', 'last_table_update', 'notes', 'paid', 'pickup_location', 'receiver', 'return_id', 'shipper_id', 'shipper_is_visible_earnings',\n",
    "    'status_update_dt', 'tags', 'total_amount'\n",
    "    ]"
   ]
  },
  {
   "cell_type": "code",
   "execution_count": 7,
   "metadata": {},
   "outputs": [
    {
     "data": {
      "text/plain": [
       "{'_status',\n",
       " 'attempts',\n",
       " 'cost',\n",
       " 'creation_dt',\n",
       " 'deliveryLat',\n",
       " 'deliveryLng',\n",
       " 'delivery_arrival_dt',\n",
       " 'delivery_dt',\n",
       " 'delivery_effective_dt',\n",
       " 'distance',\n",
       " 'distance_charged',\n",
       " 'distance_route',\n",
       " 'final_price',\n",
       " 'id',\n",
       " 'items',\n",
       " 'max_delivery_dt',\n",
       " 'max_pickup_dt',\n",
       " 'pickupLat',\n",
       " 'pickupLng',\n",
       " 'pickup_arrival_dt',\n",
       " 'pickup_dt',\n",
       " 'pickup_effective_dt',\n",
       " 'route_id',\n",
       " 'state',\n",
       " 'total_package_price',\n",
       " 'total_size',\n",
       " 'vehicle_capacity'}"
      ]
     },
     "execution_count": 7,
     "metadata": {},
     "output_type": "execute_result"
    }
   ],
   "source": [
    "set(deliveries.columns) - set(columns_unusec)"
   ]
  },
  {
   "cell_type": "code",
   "execution_count": null,
   "metadata": {},
   "outputs": [],
   "source": []
  }
 ],
 "metadata": {
  "kernelspec": {
   "display_name": "Python 3.8.10 64-bit",
   "language": "python",
   "name": "python3"
  },
  "language_info": {
   "codemirror_mode": {
    "name": "ipython",
    "version": 3
   },
   "file_extension": ".py",
   "mimetype": "text/x-python",
   "name": "python",
   "nbconvert_exporter": "python",
   "pygments_lexer": "ipython3",
   "version": "3.8.10"
  },
  "orig_nbformat": 4,
  "vscode": {
   "interpreter": {
    "hash": "916dbcbb3f70747c44a77c7bcd40155683ae19c65e1c03b4aa3499c5328201f1"
   }
  }
 },
 "nbformat": 4,
 "nbformat_minor": 2
}
